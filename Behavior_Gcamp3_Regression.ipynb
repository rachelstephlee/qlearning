{
 "cells": [
  {
   "cell_type": "markdown",
   "metadata": {},
   "source": [
    "This notebook will now have \n",
    "\n",
    "1. Regression of Behavior + GCamp \n",
    "\n",
    "**Regression packages**\n",
    "\n",
    "statsmodel \n",
    "\n",
    "edward\n",
    "\n",
    "PYRO (noah goodman) \n",
    "\n",
    "\n",
    "\n",
    "\n"
   ]
  },
  {
   "cell_type": "code",
   "execution_count": 1,
   "metadata": {
    "collapsed": true
   },
   "outputs": [],
   "source": [
    "import numpy as np \n",
    "import pandas as pd\n",
    "import pystan\n",
    "import stan_utility\n",
    "import scipy\n",
    "import _pickle as cPickle\n",
    "\n",
    "\n",
    "import matplotlib\n",
    "import matplotlib.pyplot as plt\n",
    "%matplotlib inline\n",
    "from matplotlib.colors import ListedColormap\n",
    "import matplotlib.ticker as ticker\n",
    "import matplotlib.gridspec as gridspec\n",
    "\n",
    "\n",
    "import seaborn as sns\n",
    "import pandas as pd\n",
    "import os\n",
    "\n",
    "# to render plots with white background\n",
    "import seaborn as sns\n",
    "sns.set_style('white')\n",
    "sns.set_context('notebook', font_scale=1.75)\n",
    "\n"
   ]
  },
  {
   "cell_type": "code",
   "execution_count": 2,
   "metadata": {},
   "outputs": [
    {
     "name": "stderr",
     "output_type": "stream",
     "text": [
      "/Users/sasha/anaconda/envs/biomath/lib/python3.5/site-packages/rpy2/rinterface/__init__.py:186: RRuntimeWarning: Loading required package: Matrix\n",
      "\n",
      "  warnings.warn(x, RRuntimeWarning)\n",
      "/Users/sasha/anaconda/envs/biomath/lib/python3.5/site-packages/rpy2/rinterface/__init__.py:186: RRuntimeWarning: \n",
      "Attaching package: ‘lmerTest’\n",
      "\n",
      "\n",
      "  warnings.warn(x, RRuntimeWarning)\n",
      "/Users/sasha/anaconda/envs/biomath/lib/python3.5/site-packages/rpy2/rinterface/__init__.py:186: RRuntimeWarning: The following object is masked from ‘package:lme4’:\n",
      "\n",
      "    lmer\n",
      "\n",
      "\n",
      "  warnings.warn(x, RRuntimeWarning)\n",
      "/Users/sasha/anaconda/envs/biomath/lib/python3.5/site-packages/rpy2/rinterface/__init__.py:186: RRuntimeWarning: The following object is masked from ‘package:stats’:\n",
      "\n",
      "    step\n",
      "\n",
      "\n",
      "  warnings.warn(x, RRuntimeWarning)\n"
     ]
    },
    {
     "data": {
      "text/plain": [
       "array(['MuMIn', 'lmerTest', 'parallel', 'lme4', 'Matrix', 'tools', 'stats',\n",
       "       'graphics', 'grDevices', 'utils', 'datasets', 'methods', 'base'],\n",
       "      dtype='<U9')"
      ]
     },
     "execution_count": 2,
     "metadata": {},
     "output_type": "execute_result"
    }
   ],
   "source": [
    "%load_ext rpy2.ipython\n",
    "%R library(lme4)\n",
    "%R library(parallel)\n",
    "%R library(lmerTest)\n",
    "%R library(MuMIn, quiet = True)"
   ]
  },
  {
   "cell_type": "code",
   "execution_count": 3,
   "metadata": {},
   "outputs": [
    {
     "data": {
      "application/javascript": [
       "if (!(\"Notification\" in window)) {\n",
       "    alert(\"This browser does not support desktop notifications, so the %%notify magic will not work.\");\n",
       "} else if (Notification.permission !== 'granted' && Notification.permission !== 'denied') {\n",
       "    Notification.requestPermission(function (permission) {\n",
       "        if(!('permission' in Notification)) {\n",
       "            Notification.permission = permission;\n",
       "        }\n",
       "    })\n",
       "}\n"
      ],
      "text/plain": [
       "<IPython.core.display.Javascript object>"
      ]
     },
     "metadata": {},
     "output_type": "display_data"
    }
   ],
   "source": [
    "%load_ext jupyternotify\n",
    "\n",
    "%autonotify -a 30"
   ]
  },
  {
   "cell_type": "code",
   "execution_count": 4,
   "metadata": {
    "collapsed": true
   },
   "outputs": [],
   "source": [
    "%%R\n",
    "f_lmer_mc = function(data, calls, mc.cores) {\n",
    "    require(parallel)\n",
    "    if (is.data.frame(data)) \n",
    "        data = replicate(length(calls), data, simplify = F)\n",
    "    for (i in 1:length(data)) attr(data[[i]], \"cll\") = calls[i]\n",
    "    m.list = mclapply(data, function(i) eval(parse(text = attr(i, \"cll\"))), \n",
    "        mc.cores = mc.cores)\n",
    "    return(m.list)\n",
    "}"
   ]
  },
  {
   "cell_type": "code",
   "execution_count": 5,
   "metadata": {},
   "outputs": [
    {
     "name": "stdout",
     "output_type": "stream",
     "text": [
      "CPU times: user 3.62 s, sys: 223 ms, total: 3.84 s\n",
      "Wall time: 4.1 s\n"
     ]
    }
   ],
   "source": [
    "%%time\n",
    "# These are the loaded dataframes that are calculated below\n",
    "\n",
    "df_corr_all = pd.read_csv(\"data/int_pc_qvals_gcamp.csv\", index_col = 0) # .dropna(subset=['Q_dir_diff'])\n",
    "\n",
    "\n",
    "df_trials = pd.read_csv(\"data/int_pc_qvals.csv\", index_col = 0)\n",
    "\n",
    "\n",
    "# update the gcamp values from strings --> arrays of floats \n",
    "df_src = df_corr_all\n",
    "\n",
    "df_src['g_np'] = df_src['g_np'].apply(\n",
    "                        lambda line: np.array([float(val) for val in line[1:-1].replace('\\n', '').split(' ') if val]))\n",
    "df_src['g_lp'] = df_src['g_lp'].apply(\n",
    "                        lambda line: np.array([float(val) for val in line[1:-1].replace('\\n', '').split(' ') if val]))\n",
    "df_src['g_choice'] = df_src['g_choice'].apply(\n",
    "                        lambda line: np.array([float(val) for val in line[1:-1].replace('\\n', '').split(' ') if val]))\n",
    "df_src['g_reward'] = df_src['g_reward'].apply(\n",
    "                        lambda line: np.array([float(val) for val in line[1:-1].replace('\\n', '').split(' ') if val]))\n",
    "\n"
   ]
  },
  {
   "cell_type": "code",
   "execution_count": 6,
   "metadata": {
    "collapsed": true
   },
   "outputs": [],
   "source": [
    "# some additional constants \n",
    "\n",
    "# for gcamp (dt = dt of gcamp recordings)\n",
    "dt = 15\n",
    "LEN_BEFORE = dt\n",
    "LEN_AFTER = dt * 2\n",
    "GCAMP_RANGE = np.arange(-1, 2, 1/dt)\n",
    "\n",
    "# for trials in general \n",
    "\n",
    "NS = len(np.unique(df_trials['MouseID']))\n",
    "\n",
    "NT = max(df_trials.groupby('MouseID').count()['Trial'])\n",
    "NT_all = df_trials.groupby('MouseID').count()['Trial']\n",
    "\n",
    "c_str = np.empty([NS, NT], 'str')\n",
    "r = np.empty([NS, NT], int)\n",
    "r.fill(-1) # init with nan to ensure that shorter trials dont' get false data \n",
    "for i, s in enumerate(np.unique(df_trials['MouseID'])):\n",
    "    c_str[i, :NT_all[s]] = (df_trials[df_trials['MouseID'] == s])['Action'].values\n",
    "    r[i, :NT_all[s]] = (df_trials[df_trials['MouseID'] == s])['Reward'].values\n",
    "    \n",
    "c = np.empty([NS, NT], int)\n",
    "c.fill(-1)\n",
    "\n",
    "c[c_str == 'C'] = 0; \n",
    "c[c_str == 'I'] = 1;  \n",
    "\n",
    "\n",
    "standata = {'NS':NS,'NT':NT,'NT_all':NT_all, \n",
    "           'r':r, 'c':c}\n",
    "\n",
    "# pystan.stan_rdump(standata, 'rl_behavioral.data.R')\n",
    "# pickle.dump( standata, open( \"standata.p\", \"wb\" ) )"
   ]
  },
  {
   "cell_type": "code",
   "execution_count": 7,
   "metadata": {
    "collapsed": true
   },
   "outputs": [],
   "source": [
    "df_corr = pd.DataFrame(df_corr_all[df_corr_all['RecordLoc'] == 'DMS'])\n",
    "RECORDLOC = 'DMS'"
   ]
  },
  {
   "cell_type": "markdown",
   "metadata": {},
   "source": [
    "# Analyzing Regression in real time"
   ]
  },
  {
   "cell_type": "code",
   "execution_count": 13,
   "metadata": {},
   "outputs": [
    {
     "ename": "FileNotFoundError",
     "evalue": "[Errno 2] No such file or directory: 'data/mm_reg_vals.p'",
     "output_type": "error",
     "traceback": [
      "\u001b[0;31m---------------------------------------------------------------------------\u001b[0m",
      "\u001b[0;31mFileNotFoundError\u001b[0m                         Traceback (most recent call last)",
      "\u001b[0;32m<ipython-input-13-ea79e2f6e007>\u001b[0m in \u001b[0;36m<module>\u001b[0;34m()\u001b[0m\n\u001b[1;32m      1\u001b[0m \u001b[0;32mimport\u001b[0m \u001b[0mpickle\u001b[0m\u001b[0;34m\u001b[0m\u001b[0m\n\u001b[0;32m----> 2\u001b[0;31m \u001b[0mdf\u001b[0m \u001b[0;34m=\u001b[0m \u001b[0mpickle\u001b[0m\u001b[0;34m.\u001b[0m\u001b[0mload\u001b[0m\u001b[0;34m(\u001b[0m \u001b[0mopen\u001b[0m\u001b[0;34m(\u001b[0m \u001b[0;34m\"data/mm_reg_vals.p\"\u001b[0m\u001b[0;34m,\u001b[0m \u001b[0;34m\"rb\"\u001b[0m \u001b[0;34m)\u001b[0m \u001b[0;34m)\u001b[0m\u001b[0;34m\u001b[0m\u001b[0m\n\u001b[0m",
      "\u001b[0;31mFileNotFoundError\u001b[0m: [Errno 2] No such file or directory: 'data/mm_reg_vals.p'"
     ]
    }
   ],
   "source": [
    "import pickle\n",
    "mm_reg = pickle.load( open( \"data/mm_reg.p\", \"rb\" ) )"
   ]
  },
  {
   "cell_type": "code",
   "execution_count": 10,
   "metadata": {
    "collapsed": true
   },
   "outputs": [],
   "source": [
    "nosepoke_m = mm_reg[0]\n",
    "leverprsnt_m = mm_reg[1]\n",
    "choice_m = mm_reg[2]\n",
    "reward_m = mm_reg[3]\n",
    "%R -i nosepoke_m,leverprsnt_m,choice_m,reward_m"
   ]
  },
  {
   "cell_type": "code",
   "execution_count": 11,
   "metadata": {
    "scrolled": true
   },
   "outputs": [
    {
     "data": {
      "text/plain": [
       "Linear mixed model fit by REML t-tests use Satterthwaite approximations to\n",
       "  degrees of freedom [lmerMod]\n",
       "Formula: avg_np ~ Q_ch_diff * Action + (1 + Q_ch_diff * Action | MouseID)\n",
       "   Data: i\n",
       "\n",
       "REML criterion at convergence: 17968.4\n",
       "\n",
       "Scaled residuals: \n",
       "    Min      1Q  Median      3Q     Max \n",
       "-3.8074 -0.6202 -0.0676  0.5316  7.9697 \n",
       "\n",
       "Random effects:\n",
       " Groups   Name                Variance Std.Dev. Corr             \n",
       " MouseID  (Intercept)         0.018769 0.13700                   \n",
       "          Q_ch_diff           0.002814 0.05304   0.12            \n",
       "          ActionIps           0.032904 0.18139  -0.33 -0.55      \n",
       "          Q_ch_diff:ActionIps 0.020889 0.14453   0.08 -0.66  0.34\n",
       " Residual                     0.344766 0.58717                   \n",
       "Number of obs: 10068, groups:  MouseID, 12\n",
       "\n",
       "Fixed effects:\n",
       "                    Estimate Std. Error       df t value Pr(>|t|)    \n",
       "(Intercept)          0.36191    0.04072 10.97046   8.887 2.42e-06 ***\n",
       "Q_ch_diff            0.12073    0.02209  7.67562   5.465 0.000689 ***\n",
       "ActionIps           -0.33570    0.05479 10.82613  -6.127 7.97e-05 ***\n",
       "Q_ch_diff:ActionIps -0.15154    0.04868  7.38031  -3.113 0.015904 *  \n",
       "---\n",
       "Signif. codes:  0 ‘***’ 0.001 ‘**’ 0.01 ‘*’ 0.05 ‘.’ 0.1 ‘ ’ 1\n",
       "\n",
       "Correlation of Fixed Effects:\n",
       "            (Intr) Q_ch_d ActnIp\n",
       "Q_ch_diff    0.031              \n",
       "ActionIps   -0.346 -0.326       \n",
       "Q_ch_dff:AI  0.086 -0.633  0.212\n"
      ]
     },
     "metadata": {},
     "output_type": "display_data"
    }
   ],
   "source": [
    "%R print(summary(nosepoke_m[[2]]))"
   ]
  },
  {
   "cell_type": "code",
   "execution_count": 14,
   "metadata": {
    "collapsed": true
   },
   "outputs": [],
   "source": [
    "df = pd.read_csv('data/mm_reg_vals.csv')"
   ]
  },
  {
   "cell_type": "code",
   "execution_count": 31,
   "metadata": {},
   "outputs": [
    {
     "data": {
      "text/plain": [
       "<ErrorbarContainer object of 3 artists>"
      ]
     },
     "execution_count": 31,
     "metadata": {},
     "output_type": "execute_result"
    },
    {
     "data": {
      "image/png": "[encoded data removed]",
      "text/plain": [
       "<Figure size 864x288 with 1 Axes>"
      ]
     },
     "metadata": {},
     "output_type": "display_data"
    }
   ],
   "source": [
    "plt.figure(figsize = (12, 4))\n",
    "ax = plt.gca()\n",
    "sns.barplot(data = df, x = 'timelocked', y = 'Estimate', hue = 'names')\n",
    "plt.legend(bbox_to_anchor=(1.05, 1), loc=2, borderaxespad=0.)\n",
    "ax.errorbar(x=np.delete(np.arange(-0.3, 3.4, 0.2), [4, 9, 14]), y=df.Estimate, yerr=df['Std. Error'], fmt = 'None', elinewidth = 2, ecolor = 'k')\n"
   ]
  },
  {
   "cell_type": "code",
   "execution_count": 142,
   "metadata": {},
   "outputs": [
    {
     "data": {
      "text/html": [
       "<div>\n",
       "<style scoped>\n",
       "    .dataframe tbody tr th:only-of-type {\n",
       "        vertical-align: middle;\n",
       "    }\n",
       "\n",
       "    .dataframe tbody tr th {\n",
       "        vertical-align: top;\n",
       "    }\n",
       "\n",
       "    .dataframe thead th {\n",
       "        text-align: right;\n",
       "    }\n",
       "</style>\n",
       "<table border=\"1\" class=\"dataframe\">\n",
       "  <thead>\n",
       "    <tr style=\"text-align: right;\">\n",
       "      <th></th>\n",
       "      <th>Estimate</th>\n",
       "      <th>Std. Error</th>\n",
       "      <th>df</th>\n",
       "      <th>t value</th>\n",
       "      <th>Pr(&gt;|t|)</th>\n",
       "      <th>names</th>\n",
       "      <th>timelocked</th>\n",
       "    </tr>\n",
       "  </thead>\n",
       "  <tbody>\n",
       "    <tr>\n",
       "      <th>1</th>\n",
       "      <td>0.361908</td>\n",
       "      <td>0.040722</td>\n",
       "      <td>10.970460</td>\n",
       "      <td>8.887253</td>\n",
       "      <td>2.416931e-06</td>\n",
       "      <td>(Intercept)</td>\n",
       "      <td>Nosepoke</td>\n",
       "    </tr>\n",
       "    <tr>\n",
       "      <th>2</th>\n",
       "      <td>0.120731</td>\n",
       "      <td>0.022093</td>\n",
       "      <td>7.675619</td>\n",
       "      <td>5.464676</td>\n",
       "      <td>6.891859e-04</td>\n",
       "      <td>Q_ch_diff</td>\n",
       "      <td>Nosepoke</td>\n",
       "    </tr>\n",
       "    <tr>\n",
       "      <th>3</th>\n",
       "      <td>-0.335703</td>\n",
       "      <td>0.054791</td>\n",
       "      <td>10.826129</td>\n",
       "      <td>-6.127013</td>\n",
       "      <td>7.970730e-05</td>\n",
       "      <td>ActionIps</td>\n",
       "      <td>Nosepoke</td>\n",
       "    </tr>\n",
       "    <tr>\n",
       "      <th>4</th>\n",
       "      <td>-0.151535</td>\n",
       "      <td>0.048678</td>\n",
       "      <td>7.380306</td>\n",
       "      <td>-3.113025</td>\n",
       "      <td>1.590423e-02</td>\n",
       "      <td>Q_ch_diff:ActionIps</td>\n",
       "      <td>Nosepoke</td>\n",
       "    </tr>\n",
       "    <tr>\n",
       "      <th>5</th>\n",
       "      <td>0.494871</td>\n",
       "      <td>0.045104</td>\n",
       "      <td>11.063789</td>\n",
       "      <td>10.971726</td>\n",
       "      <td>2.756841e-07</td>\n",
       "      <td>(Intercept)</td>\n",
       "      <td>LeverPress</td>\n",
       "    </tr>\n",
       "    <tr>\n",
       "      <th>6</th>\n",
       "      <td>0.217053</td>\n",
       "      <td>0.052906</td>\n",
       "      <td>10.164305</td>\n",
       "      <td>4.102646</td>\n",
       "      <td>2.063957e-03</td>\n",
       "      <td>Q_ch_diff</td>\n",
       "      <td>LeverPress</td>\n",
       "    </tr>\n",
       "    <tr>\n",
       "      <th>7</th>\n",
       "      <td>-0.337252</td>\n",
       "      <td>0.073554</td>\n",
       "      <td>10.260823</td>\n",
       "      <td>-4.585076</td>\n",
       "      <td>9.380945e-04</td>\n",
       "      <td>ActionIps</td>\n",
       "      <td>LeverPress</td>\n",
       "    </tr>\n",
       "    <tr>\n",
       "      <th>8</th>\n",
       "      <td>-0.039217</td>\n",
       "      <td>0.070203</td>\n",
       "      <td>11.217300</td>\n",
       "      <td>-0.558616</td>\n",
       "      <td>5.874019e-01</td>\n",
       "      <td>Q_ch_diff:ActionIps</td>\n",
       "      <td>LeverPress</td>\n",
       "    </tr>\n",
       "    <tr>\n",
       "      <th>9</th>\n",
       "      <td>-0.038282</td>\n",
       "      <td>0.063876</td>\n",
       "      <td>11.029213</td>\n",
       "      <td>-0.599320</td>\n",
       "      <td>5.610691e-01</td>\n",
       "      <td>(Intercept)</td>\n",
       "      <td>Choice</td>\n",
       "    </tr>\n",
       "    <tr>\n",
       "      <th>10</th>\n",
       "      <td>0.179993</td>\n",
       "      <td>0.048125</td>\n",
       "      <td>10.245233</td>\n",
       "      <td>3.740130</td>\n",
       "      <td>3.687941e-03</td>\n",
       "      <td>Q_ch_diff</td>\n",
       "      <td>Choice</td>\n",
       "    </tr>\n",
       "    <tr>\n",
       "      <th>11</th>\n",
       "      <td>0.278633</td>\n",
       "      <td>0.070626</td>\n",
       "      <td>10.594689</td>\n",
       "      <td>3.945209</td>\n",
       "      <td>2.461810e-03</td>\n",
       "      <td>ActionIps</td>\n",
       "      <td>Choice</td>\n",
       "    </tr>\n",
       "    <tr>\n",
       "      <th>12</th>\n",
       "      <td>0.010796</td>\n",
       "      <td>0.044052</td>\n",
       "      <td>10.052790</td>\n",
       "      <td>0.245087</td>\n",
       "      <td>8.113197e-01</td>\n",
       "      <td>Q_ch_diff:ActionIps</td>\n",
       "      <td>Choice</td>\n",
       "    </tr>\n",
       "    <tr>\n",
       "      <th>13</th>\n",
       "      <td>-0.142486</td>\n",
       "      <td>0.042665</td>\n",
       "      <td>11.006409</td>\n",
       "      <td>-3.339618</td>\n",
       "      <td>6.592761e-03</td>\n",
       "      <td>(Intercept)</td>\n",
       "      <td>Reward</td>\n",
       "    </tr>\n",
       "    <tr>\n",
       "      <th>14</th>\n",
       "      <td>0.124935</td>\n",
       "      <td>0.048089</td>\n",
       "      <td>9.944914</td>\n",
       "      <td>2.598004</td>\n",
       "      <td>2.669327e-02</td>\n",
       "      <td>Q_ch_diff</td>\n",
       "      <td>Reward</td>\n",
       "    </tr>\n",
       "    <tr>\n",
       "      <th>15</th>\n",
       "      <td>0.251671</td>\n",
       "      <td>0.066215</td>\n",
       "      <td>10.017842</td>\n",
       "      <td>3.800844</td>\n",
       "      <td>3.469886e-03</td>\n",
       "      <td>ActionIps</td>\n",
       "      <td>Reward</td>\n",
       "    </tr>\n",
       "    <tr>\n",
       "      <th>16</th>\n",
       "      <td>-0.064997</td>\n",
       "      <td>0.048181</td>\n",
       "      <td>9.484994</td>\n",
       "      <td>-1.349012</td>\n",
       "      <td>2.086547e-01</td>\n",
       "      <td>Q_ch_diff:ActionIps</td>\n",
       "      <td>Reward</td>\n",
       "    </tr>\n",
       "  </tbody>\n",
       "</table>\n",
       "</div>"
      ],
      "text/plain": [
       "    Estimate  Std. Error         df    t value      Pr(>|t|)  \\\n",
       "1   0.361908    0.040722  10.970460   8.887253  2.416931e-06   \n",
       "2   0.120731    0.022093   7.675619   5.464676  6.891859e-04   \n",
       "3  -0.335703    0.054791  10.826129  -6.127013  7.970730e-05   \n",
       "4  -0.151535    0.048678   7.380306  -3.113025  1.590423e-02   \n",
       "5   0.494871    0.045104  11.063789  10.971726  2.756841e-07   \n",
       "6   0.217053    0.052906  10.164305   4.102646  2.063957e-03   \n",
       "7  -0.337252    0.073554  10.260823  -4.585076  9.380945e-04   \n",
       "8  -0.039217    0.070203  11.217300  -0.558616  5.874019e-01   \n",
       "9  -0.038282    0.063876  11.029213  -0.599320  5.610691e-01   \n",
       "10  0.179993    0.048125  10.245233   3.740130  3.687941e-03   \n",
       "11  0.278633    0.070626  10.594689   3.945209  2.461810e-03   \n",
       "12  0.010796    0.044052  10.052790   0.245087  8.113197e-01   \n",
       "13 -0.142486    0.042665  11.006409  -3.339618  6.592761e-03   \n",
       "14  0.124935    0.048089   9.944914   2.598004  2.669327e-02   \n",
       "15  0.251671    0.066215  10.017842   3.800844  3.469886e-03   \n",
       "16 -0.064997    0.048181   9.484994  -1.349012  2.086547e-01   \n",
       "\n",
       "                  names  timelocked  \n",
       "1           (Intercept)    Nosepoke  \n",
       "2             Q_ch_diff    Nosepoke  \n",
       "3             ActionIps    Nosepoke  \n",
       "4   Q_ch_diff:ActionIps    Nosepoke  \n",
       "5           (Intercept)  LeverPress  \n",
       "6             Q_ch_diff  LeverPress  \n",
       "7             ActionIps  LeverPress  \n",
       "8   Q_ch_diff:ActionIps  LeverPress  \n",
       "9           (Intercept)      Choice  \n",
       "10            Q_ch_diff      Choice  \n",
       "11            ActionIps      Choice  \n",
       "12  Q_ch_diff:ActionIps      Choice  \n",
       "13          (Intercept)      Reward  \n",
       "14            Q_ch_diff      Reward  \n",
       "15            ActionIps      Reward  \n",
       "16  Q_ch_diff:ActionIps      Reward  "
      ]
     },
     "execution_count": 142,
     "metadata": {},
     "output_type": "execute_result"
    }
   ],
   "source": [
    "df"
   ]
  },
  {
   "cell_type": "markdown",
   "metadata": {},
   "source": [
    "# First Pass Regression\n",
    "\n"
   ]
  },
  {
   "cell_type": "markdown",
   "metadata": {},
   "source": [
    "**Regression to compute** \n",
    "\n",
    "avg_i ~  Q * Action + (1 + Q * Action |MouseID)\n",
    "\n",
    "avg_i averages over 0 - 1.0 seconds with i = nosepoke, leverpresentation, choice, reward\n",
    "\n",
    "Q = Q_chosen, Q_ch_diff, Q_dir_diff\n",
    "\n",
    "\n",
    "\n"
   ]
  },
  {
   "cell_type": "code",
   "execution_count": 12,
   "metadata": {
    "collapsed": true
   },
   "outputs": [],
   "source": [
    "df_corr_r = df_corr.drop(['g_np', 'g_lp', 'g_choice', 'g_reward', 'Stay/Leave'], axis = 1)\n",
    "df_corr_r = df_corr_r.dropna()"
   ]
  },
  {
   "cell_type": "code",
   "execution_count": 14,
   "metadata": {},
   "outputs": [
    {
     "data": {
      "text/plain": [
       "  MouseID Trial Action Reward Session RecordLoc Reward_last        Q_c\n",
       "1       0     1    Con      0       1       DMS           1 0.00000000\n",
       "2       0     2    Con      0       1       DMS           0 0.63085854\n",
       "3       0     3    Con      0       1       DMS           0 0.23127753\n",
       "4       0     4    Con      0       1       DMS           0 0.08579952\n",
       "5       0     5    Con      0       1       DMS           0 0.03219203\n",
       "6       0     6    Ips      1       1       DMS           0 0.01220969\n",
       "  Q_dir_diff   Q_chosen    Q_ch_diff     avg_np      avg_lp      avg_ch\n",
       "1 0.00000000 0.63085854  0.630858539  0.0858689  0.59022748 -0.02674854\n",
       "2 0.63085854 0.23127753  0.231277531  0.2290376 -0.12146094 -0.29159753\n",
       "3 0.23127753 0.08579952  0.085799516  0.1095385  0.06057064 -0.69153950\n",
       "4 0.08579952 0.03219203  0.032192034 -0.3119546 -0.36258663 -0.40678172\n",
       "5 0.03219203 0.01220969  0.012209693 -0.3256196  0.08260307 -0.87649703\n",
       "6 0.01220969 0.00000000 -0.004678988 -0.5410994  1.94120331  0.80696191\n",
       "         avg_r\n",
       "1 -0.155152419\n",
       "2 -0.498222297\n",
       "3 -0.696753069\n",
       "4  0.004965365\n",
       "5 -0.430882317\n",
       "6  0.719074622\n"
      ]
     },
     "metadata": {},
     "output_type": "display_data"
    }
   ],
   "source": [
    "%%R -i df_corr_r\n",
    "print(head(df_corr_r))\n"
   ]
  },
  {
   "cell_type": "code",
   "execution_count": 15,
   "metadata": {},
   "outputs": [
    {
     "data": {
      "application/javascript": [
       "$(document).ready(\n",
       "    function() {\n",
       "        function appendUniqueDiv(){\n",
       "            // append a div with our uuid so we can check that it's already\n",
       "            // been sent and avoid duplicates on page reload\n",
       "            var notifiedDiv = document.createElement(\"div\")\n",
       "            notifiedDiv.id = \"815ff70b-53c1-4f02-92fa-71c8b04e008c\"\n",
       "            element.append(notifiedDiv)\n",
       "        }\n",
       "\n",
       "        // only send notifications if the pageload is complete; this will\n",
       "        // help stop extra notifications when a saved notebook is loaded,\n",
       "        // which during testing gives us state \"interactive\", not \"complete\"\n",
       "        if (document.readyState === 'complete') {\n",
       "            // check for the div that signifies that the notification\n",
       "            // was already sent\n",
       "            if (document.getElementById(\"815ff70b-53c1-4f02-92fa-71c8b04e008c\") === null) {\n",
       "                var notificationPayload = {\"body\": \"Cell Execution Has Finished!!\", \"autonotify_output\": false, \"icon\": \"/static/base/images/favicon.ico\", \"requireInteraction\": false, \"autonotify_after\": \"30\"};\n",
       "                if (Notification.permission !== 'denied') {\n",
       "                    if (Notification.permission !== 'granted') { \n",
       "                        Notification.requestPermission(function (permission) {\n",
       "                            if(!('permission' in Notification)) {\n",
       "                                Notification.permission = permission\n",
       "                            }\n",
       "                        })\n",
       "                    }\n",
       "                    if (Notification.permission === 'granted') {\n",
       "                    var notification = new Notification(\"Jupyter Notebook\", notificationPayload)\n",
       "                    appendUniqueDiv()\n",
       "                    notification.onclick = function () {\n",
       "                        window.focus();\n",
       "                        this.close();\n",
       "                        };\n",
       "                    } \n",
       "                }     \n",
       "            }\n",
       "        }\n",
       "    }\n",
       ")\n"
      ],
      "text/plain": [
       "<IPython.core.display.Javascript object>"
      ]
     },
     "metadata": {},
     "output_type": "display_data"
    }
   ],
   "source": [
    "%%R -o nosepoke_m,leverprsnt_m\n",
    "\n",
    "models = c(\"lmer(avg_np ~  Q_chosen * Action + (1 + Q_chosen * Action |MouseID), data = i)\",\n",
    "           \"lmer(avg_np ~  Q_ch_diff * Action + (1 + Q_ch_diff * Action |MouseID), data = i)\",\n",
    "          \"lmer(avg_np ~  Q_dir_diff * Action + (1 +  Q_dir_diff * Action|MouseID), data = i)\")\n",
    "np.list = f_lmer_mc(df_corr_r, models, 3)\n",
    "\n",
    "nosepoke_m = np.list\n",
    "\n",
    "models = c(\"lmer(avg_lp ~  Q_chosen * Action + (1 + Q_chosen * Action |MouseID), data = i)\",\n",
    "           \"lmer(avg_lp ~  Q_ch_diff * Action + (1 + Q_ch_diff * Action |MouseID), data = i)\",\n",
    "          \"lmer(avg_lp ~  Q_dir_diff * Action + (1 +  Q_dir_diff * Action|MouseID), data = i)\")\n",
    "lp.list = f_lmer_mc(df_corr_r, models, 3)\n",
    "\n",
    "leverprsnt_m = lp.list\n"
   ]
  },
  {
   "cell_type": "code",
   "execution_count": 17,
   "metadata": {},
   "outputs": [
    {
     "data": {
      "application/javascript": [
       "$(document).ready(\n",
       "    function() {\n",
       "        function appendUniqueDiv(){\n",
       "            // append a div with our uuid so we can check that it's already\n",
       "            // been sent and avoid duplicates on page reload\n",
       "            var notifiedDiv = document.createElement(\"div\")\n",
       "            notifiedDiv.id = \"54ede46d-e576-443b-8200-aee1b110f52d\"\n",
       "            element.append(notifiedDiv)\n",
       "        }\n",
       "\n",
       "        // only send notifications if the pageload is complete; this will\n",
       "        // help stop extra notifications when a saved notebook is loaded,\n",
       "        // which during testing gives us state \"interactive\", not \"complete\"\n",
       "        if (document.readyState === 'complete') {\n",
       "            // check for the div that signifies that the notification\n",
       "            // was already sent\n",
       "            if (document.getElementById(\"54ede46d-e576-443b-8200-aee1b110f52d\") === null) {\n",
       "                var notificationPayload = {\"body\": \"Cell Execution Has Finished!!\", \"autonotify_output\": false, \"icon\": \"/static/base/images/favicon.ico\", \"requireInteraction\": false, \"autonotify_after\": \"30\"};\n",
       "                if (Notification.permission !== 'denied') {\n",
       "                    if (Notification.permission !== 'granted') { \n",
       "                        Notification.requestPermission(function (permission) {\n",
       "                            if(!('permission' in Notification)) {\n",
       "                                Notification.permission = permission\n",
       "                            }\n",
       "                        })\n",
       "                    }\n",
       "                    if (Notification.permission === 'granted') {\n",
       "                    var notification = new Notification(\"Jupyter Notebook\", notificationPayload)\n",
       "                    appendUniqueDiv()\n",
       "                    notification.onclick = function () {\n",
       "                        window.focus();\n",
       "                        this.close();\n",
       "                        };\n",
       "                    } \n",
       "                }     \n",
       "            }\n",
       "        }\n",
       "    }\n",
       ")\n"
      ],
      "text/plain": [
       "<IPython.core.display.Javascript object>"
      ]
     },
     "metadata": {},
     "output_type": "display_data"
    }
   ],
   "source": [
    "%%R -o choice_m\n",
    "\n",
    "models = c(\"lmer(avg_ch ~  Q_chosen * Action + (1 + Q_chosen * Action |MouseID), data = i)\",\n",
    "           \"lmer(avg_ch ~  Q_ch_diff * Action + (1 + Q_ch_diff * Action |MouseID), data = i)\",\n",
    "          \"lmer(avg_ch ~  Q_dir_diff * Action + (1 +  Q_dir_diff * Action|MouseID), data = i)\")\n",
    "m.list = f_lmer_mc(df_corr_r, models, 3)\n",
    "\n",
    "choice_m = m.list\n",
    "\n",
    "models = c(\"lmer(avg_r ~  Q_chosen * Action + (1 + Q_chosen * Action |MouseID), data = i)\",\n",
    "           \"lmer(avg_r ~  Q_ch_diff * Action + (1 + Q_ch_diff * Action |MouseID), data = i)\",\n",
    "          \"lmer(avg_r ~  Q_dir_diff * Action + (1 +  Q_dir_diff * Action|MouseID), data = i)\")\n",
    "m.list = f_lmer_mc(df_corr_r, models, 3)\n",
    "\n",
    "reward_m = m.list\n"
   ]
  },
  {
   "cell_type": "code",
   "execution_count": 18,
   "metadata": {
    "collapsed": true
   },
   "outputs": [],
   "source": [
    "import pickle \n",
    "mm = [nosepoke_m, leverprsnt_m, choice_m, reward_m]\n",
    "pickle.dump(mm, open( \"data/mm_reg.p\", \"wb\" ) )"
   ]
  },
  {
   "cell_type": "code",
   "execution_count": 71,
   "metadata": {},
   "outputs": [
    {
     "data": {
      "text/plain": [
       "       R2m        R2c \n",
       "0.09558837 0.16984591 \n"
      ]
     },
     "metadata": {},
     "output_type": "display_data"
    },
    {
     "data": {
      "text/plain": [
       "       R2m        R2c \n",
       "0.09043357 0.16728096 \n"
      ]
     },
     "metadata": {},
     "output_type": "display_data"
    },
    {
     "data": {
      "text/plain": [
       "       R2m        R2c \n",
       "0.08412972 0.16107813 \n"
      ]
     },
     "metadata": {},
     "output_type": "display_data"
    }
   ],
   "source": [
    "%R print(r.squaredGLMM(nosepoke_m[[1]]))\n",
    "%R print(r.squaredGLMM(nosepoke_m[[2]]))\n",
    "%R print(r.squaredGLMM(nosepoke_m[[3]]))\n"
   ]
  },
  {
   "cell_type": "code",
   "execution_count": 117,
   "metadata": {
    "collapsed": true
   },
   "outputs": [],
   "source": [
    "%%R\n",
    "Q_type = 2\n",
    "df = as.data.frame(coef(summary(nosepoke_m[[Q_type]])))\n",
    "df$names = rownames(df)\n",
    "rownames(df) = NULL\n",
    "df$timelocked = 'Nosepoke'\n",
    "\n",
    "\n"
   ]
  },
  {
   "cell_type": "code",
   "execution_count": 158,
   "metadata": {},
   "outputs": [
    {
     "name": "stdout",
     "output_type": "stream",
     "text": [
      "\n",
      "Error in withVisible({ : object 'mm' not found\n"
     ]
    },
    {
     "name": "stderr",
     "output_type": "stream",
     "text": [
      "/Users/sasha/anaconda/envs/biomath/lib/python3.5/site-packages/rpy2/rinterface/__init__.py:186: RRuntimeWarning: Error in withVisible({ : object 'mm' not found\n",
      "\n",
      "  warnings.warn(x, RRuntimeWarning)\n"
     ]
    }
   ],
   "source": [
    "%R mm[1][[1]]"
   ]
  },
  {
   "cell_type": "code",
   "execution_count": 124,
   "metadata": {},
   "outputs": [
    {
     "data": {
      "application/javascript": [
       "$(document).ready(\n",
       "    function() {\n",
       "        function appendUniqueDiv(){\n",
       "            // append a div with our uuid so we can check that it's already\n",
       "            // been sent and avoid duplicates on page reload\n",
       "            var notifiedDiv = document.createElement(\"div\")\n",
       "            notifiedDiv.id = \"b535810f-cfd5-410a-bbbf-ee999a7e2af9\"\n",
       "            element.append(notifiedDiv)\n",
       "        }\n",
       "\n",
       "        // only send notifications if the pageload is complete; this will\n",
       "        // help stop extra notifications when a saved notebook is loaded,\n",
       "        // which during testing gives us state \"interactive\", not \"complete\"\n",
       "        if (document.readyState === 'complete') {\n",
       "            // check for the div that signifies that the notification\n",
       "            // was already sent\n",
       "            if (document.getElementById(\"b535810f-cfd5-410a-bbbf-ee999a7e2af9\") === null) {\n",
       "                var notificationPayload = {\"body\": \"Cell Execution Has Finished!!\", \"requireInteraction\": false, \"autonotify_output\": false, \"icon\": \"/static/base/images/favicon.ico\", \"autonotify_after\": \"30\"};\n",
       "                if (Notification.permission !== 'denied') {\n",
       "                    if (Notification.permission !== 'granted') { \n",
       "                        Notification.requestPermission(function (permission) {\n",
       "                            if(!('permission' in Notification)) {\n",
       "                                Notification.permission = permission\n",
       "                            }\n",
       "                        })\n",
       "                    }\n",
       "                    if (Notification.permission === 'granted') {\n",
       "                    var notification = new Notification(\"Jupyter Notebook\", notificationPayload)\n",
       "                    appendUniqueDiv()\n",
       "                    notification.onclick = function () {\n",
       "                        window.focus();\n",
       "                        this.close();\n",
       "                        };\n",
       "                    } \n",
       "                }     \n",
       "            }\n",
       "        }\n",
       "    }\n",
       ")\n"
      ],
      "text/plain": [
       "<IPython.core.display.Javascript object>"
      ]
     },
     "metadata": {},
     "output_type": "display_data"
    }
   ],
   "source": [
    "%%R -o\n",
    "to_add <- c(leverprsnt_m[[Q_type]], choice_m[[Q_type]], reward_m[[Q_type]])\n",
    "tl = c('LeverPress', 'Choice', 'Reward')\n",
    "i = 0\n",
    "for (mm_i in to_add){\n",
    "    i = i + 1\n",
    "    df_temp = as.data.frame(coef(summary(mm_i)))\n",
    "    df_temp$names = rownames(df_temp)\n",
    "    rownames(df_temp) = NULL\n",
    "    df_temp$timelocked = tl[i]\n",
    "    df = rbind(df, df_temp)\n",
    "}\n",
    "\n"
   ]
  },
  {
   "cell_type": "code",
   "execution_count": 72,
   "metadata": {
    "collapsed": true
   },
   "outputs": [],
   "source": []
  },
  {
   "cell_type": "code",
   "execution_count": 52,
   "metadata": {},
   "outputs": [
    {
     "data": {
      "text/plain": [
       "Linear mixed model fit by REML ['lmerMod']\n",
       "Formula: avg_r ~ Q_chosen * Action + (1 + Q_chosen * Action | MouseID)\n",
       "   Data: i\n",
       "\n",
       "REML criterion at convergence: 19456.9\n",
       "\n",
       "Scaled residuals: \n",
       "    Min      1Q  Median      3Q     Max \n",
       "-3.3818 -0.5998 -0.0753  0.4988  6.4283 \n",
       "\n",
       "Random effects:\n",
       " Groups   Name               Variance Std.Dev. Corr             \n",
       " MouseID  (Intercept)        0.01375  0.1173                    \n",
       "          Q_chosen           0.04896  0.2213   -0.05            \n",
       "          ActionIps          0.04806  0.2192   -0.69  0.35      \n",
       "          Q_chosen:ActionIps 0.05296  0.2301   -0.14 -0.88 -0.27\n",
       " Residual                    0.39976  0.6323                    \n",
       "Number of obs: 10068, groups:  MouseID, 12\n",
       "\n",
       "Fixed effects:\n",
       "                   Estimate Std. Error t value\n",
       "(Intercept)        -0.19690    0.03699  -5.323\n",
       "Q_chosen            0.16193    0.06882   2.353\n",
       "ActionIps           0.30158    0.06742   4.473\n",
       "Q_chosen:ActionIps -0.10913    0.07611  -1.434\n",
       "\n",
       "Correlation of Fixed Effects:\n",
       "            (Intr) Q_chsn ActnIp\n",
       "Q_chosen    -0.155              \n",
       "ActionIps   -0.682  0.369       \n",
       "Q_chsn:ActI -0.015 -0.833 -0.354\n"
      ]
     },
     "metadata": {},
     "output_type": "display_data"
    }
   ],
   "source": [
    "%R print(summary(reward_m[[1]]))"
   ]
  },
  {
   "cell_type": "markdown",
   "metadata": {},
   "source": [
    "# Diagnostics Scripts"
   ]
  },
  {
   "cell_type": "code",
   "execution_count": null,
   "metadata": {
    "collapsed": true
   },
   "outputs": [],
   "source": [
    "%time %R print(summary(lmer('avg_lp ~  Q_chosen * Action + (1 + Q_chosen * Action |MouseID)', data=df_corr_r)))\n"
   ]
  },
  {
   "cell_type": "code",
   "execution_count": null,
   "metadata": {
    "collapsed": true
   },
   "outputs": [],
   "source": [
    "# test_data = sm.datasets.get_rdataset('dietox', 'geepack').data\n",
    "\n",
    "# Simplest Regression \n",
    "formula = 'avg_lp ~  Q_chosen'\n",
    "lm = ols(formula, data = df_corr).fit()\n",
    "lm.summary()\n",
    "\n",
    "formula = 'avg_lp ~  Q_chosen * Action' # with interaction\n",
    "\n"
   ]
  },
  {
   "cell_type": "code",
   "execution_count": null,
   "metadata": {
    "collapsed": true
   },
   "outputs": [],
   "source": [
    "plt.plot(lm.resid)"
   ]
  },
  {
   "cell_type": "code",
   "execution_count": null,
   "metadata": {
    "collapsed": true
   },
   "outputs": [],
   "source": [
    "from statsmodels.graphics.regressionplots import plot_leverage_resid2\n",
    "fig, ax = plt.subplots(figsize=(8,6))\n",
    "fig = plot_leverage_resid2(lm, ax = ax)"
   ]
  },
  {
   "cell_type": "code",
   "execution_count": null,
   "metadata": {
    "collapsed": true
   },
   "outputs": [],
   "source": [
    "influence = lm.get_influence()\n",
    "#c is the distance and p is p-value\n",
    "(c, p) = influence.cooks_distance\n",
    "plt.stem(np.arange(len(c)), c, markerfmt=\",\")"
   ]
  },
  {
   "cell_type": "code",
   "execution_count": null,
   "metadata": {
    "collapsed": true
   },
   "outputs": [],
   "source": []
  }
 ],
 "metadata": {
  "kernelspec": {
   "display_name": "Python 3 (Biomath)",
   "language": "python",
   "name": "biomath"
  },
  "language_info": {
   "codemirror_mode": {
    "name": "ipython",
    "version": 3
   },
   "file_extension": ".py",
   "mimetype": "text/x-python",
   "name": "python",
   "nbconvert_exporter": "python",
   "pygments_lexer": "ipython3",
   "version": "3.5.4"
  },
  "toc": {
   "nav_menu": {},
   "number_sections": false,
   "sideBar": true,
   "skip_h1_title": false,
   "toc_cell": false,
   "toc_position": {},
   "toc_section_display": "block",
   "toc_window_display": false
  }
 },
 "nbformat": 4,
 "nbformat_minor": 2
}
