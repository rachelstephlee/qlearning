{
 "cells": [
  {
   "cell_type": "markdown",
   "metadata": {},
   "source": [
    "This notebook will now have \n",
    "\n",
    "1. Regression of Behavior + GCamp \n",
    "\n",
    "\n"
   ]
  },
  {
   "cell_type": "code",
   "execution_count": 1,
   "metadata": {
    "collapsed": true
   },
   "outputs": [],
   "source": [
    "import numpy as np \n",
    "import pandas as pd\n",
    "import scipy\n",
    "import _pickle as cPickle\n",
    "\n",
    "\n",
    "import matplotlib\n",
    "import matplotlib.pyplot as plt\n",
    "%matplotlib inline\n",
    "from matplotlib.colors import ListedColormap\n",
    "import matplotlib.ticker as ticker\n",
    "import matplotlib.gridspec as gridspec\n",
    "\n",
    "\n",
    "import seaborn as sns\n",
    "import os\n",
    "\n",
    "\n",
    "\n",
    "# to render plots with white background\n",
    "import seaborn as sns\n",
    "sns.set_style('white')\n",
    "sns.set_context('notebook', font_scale=1.75)\n",
    "\n"
   ]
  },
  {
   "cell_type": "code",
   "execution_count": 2,
   "metadata": {},
   "outputs": [
    {
     "name": "stderr",
     "output_type": "stream",
     "text": [
      "/anaconda/envs/biomath2/lib/python3.6/site-packages/rpy2/rinterface/__init__.py:186: RRuntimeWarning: Loading required package: Matrix\n",
      "\n",
      "  warnings.warn(x, RRuntimeWarning)\n",
      "/anaconda/envs/biomath2/lib/python3.6/site-packages/rpy2/rinterface/__init__.py:186: RRuntimeWarning: \n",
      "Attaching package: ‘lmerTest’\n",
      "\n",
      "\n",
      "  warnings.warn(x, RRuntimeWarning)\n",
      "/anaconda/envs/biomath2/lib/python3.6/site-packages/rpy2/rinterface/__init__.py:186: RRuntimeWarning: The following object is masked from ‘package:lme4’:\n",
      "\n",
      "    lmer\n",
      "\n",
      "\n",
      "  warnings.warn(x, RRuntimeWarning)\n",
      "/anaconda/envs/biomath2/lib/python3.6/site-packages/rpy2/rinterface/__init__.py:186: RRuntimeWarning: The following object is masked from ‘package:stats’:\n",
      "\n",
      "    step\n",
      "\n",
      "\n",
      "  warnings.warn(x, RRuntimeWarning)\n"
     ]
    },
    {
     "data": {
      "text/plain": [
       "array(['pbkrtest', 'lmerTest', 'parallel', 'lme4', 'Matrix', 'tools',\n",
       "       'stats', 'graphics', 'grDevices', 'utils', 'datasets', 'methods',\n",
       "       'base'], \n",
       "      dtype='<U9')"
      ]
     },
     "execution_count": 2,
     "metadata": {},
     "output_type": "execute_result"
    }
   ],
   "source": [
    "%load_ext rpy2.ipython\n",
    "%R library(lme4)\n",
    "%R library(parallel)\n",
    "%R library(lmerTest)\n",
    "%R library(pbkrtest)\n",
    "# %R library(MuMIn, quiet = True)"
   ]
  },
  {
   "cell_type": "code",
   "execution_count": 3,
   "metadata": {},
   "outputs": [
    {
     "data": {
      "application/javascript": [
       "if (!(\"Notification\" in window)) {\n",
       "    alert(\"This browser does not support desktop notifications, so the %%notify magic will not work.\");\n",
       "} else if (Notification.permission !== 'granted' && Notification.permission !== 'denied') {\n",
       "    Notification.requestPermission(function (permission) {\n",
       "        if(!('permission' in Notification)) {\n",
       "            Notification.permission = permission;\n",
       "        }\n",
       "    })\n",
       "}\n"
      ],
      "text/plain": [
       "<IPython.core.display.Javascript object>"
      ]
     },
     "metadata": {},
     "output_type": "display_data"
    }
   ],
   "source": [
    "%load_ext jupyternotify\n",
    "\n",
    "%autonotify -a 30"
   ]
  },
  {
   "cell_type": "code",
   "execution_count": 4,
   "metadata": {
    "collapsed": true
   },
   "outputs": [],
   "source": [
    "%%R\n",
    "f_lmer_mc = function(data, calls, mc.cores) {\n",
    "    require(parallel)\n",
    "    if (is.data.frame(data)) \n",
    "        data = replicate(length(calls), data, simplify = F)\n",
    "    for (i in 1:length(data)) attr(data[[i]], \"cll\") = calls[i]\n",
    "    m.list = mclapply(data, function(i) eval(parse(text = attr(i, \"cll\"))), \n",
    "        mc.cores = mc.cores)\n",
    "    return(m.list)\n",
    "}"
   ]
  },
  {
   "cell_type": "code",
   "execution_count": 5,
   "metadata": {},
   "outputs": [
    {
     "name": "stdout",
     "output_type": "stream",
     "text": [
      "CPU times: user 1.51 s, sys: 59.1 ms, total: 1.57 s\n",
      "Wall time: 6.35 s\n"
     ]
    }
   ],
   "source": [
    "%%time\n",
    "# These are the loaded dataframes that are calculated below\n",
    "\n",
    "df_corr_all = pd.read_csv(\"data/int_pc_qvals_gcamp.csv\", index_col = 0) # .dropna(subset=['Q_dir_diff'])\n",
    "\n",
    "\n",
    "df_trials = pd.read_csv(\"data/int_pc_qvals.csv\", index_col = 0)\n",
    "\n",
    "\n",
    "# update the gcamp values from strings --> arrays of floats \n",
    "df_src = df_corr_all\n",
    "\n",
    "df_src['g_np'] = df_src['g_np'].apply(\n",
    "                        lambda line: np.array([float(val) for val in line[1:-1].replace('\\n', '').split(' ') if val]))\n",
    "df_src['g_lp'] = df_src['g_lp'].apply(\n",
    "                        lambda line: np.array([float(val) for val in line[1:-1].replace('\\n', '').split(' ') if val]))\n",
    "df_src['g_choice'] = df_src['g_choice'].apply(\n",
    "                        lambda line: np.array([float(val) for val in line[1:-1].replace('\\n', '').split(' ') if val]))\n",
    "df_src['g_reward'] = df_src['g_reward'].apply(\n",
    "                        lambda line: np.array([float(val) for val in line[1:-1].replace('\\n', '').split(' ') if val]))\n",
    "\n"
   ]
  },
  {
   "cell_type": "code",
   "execution_count": 6,
   "metadata": {
    "collapsed": true
   },
   "outputs": [],
   "source": [
    "# some additional constants \n",
    "\n",
    "# for gcamp (dt = dt of gcamp recordings)\n",
    "dt = 15\n",
    "LEN_BEFORE = dt\n",
    "LEN_AFTER = dt * 2\n",
    "GCAMP_RANGE = np.arange(-1, 2, 1/dt)\n",
    "\n",
    "# for trials in general \n",
    "\n",
    "NS = len(np.unique(df_trials['MouseID']))\n",
    "\n",
    "NT = max(df_trials.groupby('MouseID').count()['Trial'])\n",
    "NT_all = df_trials.groupby('MouseID').count()['Trial']\n",
    "\n",
    "c_str = np.empty([NS, NT], 'str')\n",
    "r = np.empty([NS, NT], int)\n",
    "r.fill(-1) # init with nan to ensure that shorter trials dont' get false data \n",
    "for i, s in enumerate(np.unique(df_trials['MouseID'])):\n",
    "    c_str[i, :NT_all[s]] = (df_trials[df_trials['MouseID'] == s])['Action'].values\n",
    "    r[i, :NT_all[s]] = (df_trials[df_trials['MouseID'] == s])['Reward'].values\n",
    "    \n",
    "c = np.empty([NS, NT], int)\n",
    "c.fill(-1)\n",
    "\n",
    "c[c_str == 'C'] = 0; \n",
    "c[c_str == 'I'] = 1;  \n",
    "\n",
    "\n",
    "standata = {'NS':NS,'NT':NT,'NT_all':NT_all, \n",
    "           'r':r, 'c':c}\n",
    "\n",
    "# pystan.stan_rdump(standata, 'rl_behavioral.data.R')\n",
    "# pickle.dump( standata, open( \"standata.p\", \"wb\" ) )"
   ]
  },
  {
   "cell_type": "code",
   "execution_count": 96,
   "metadata": {
    "collapsed": true
   },
   "outputs": [],
   "source": [
    "# df_corr = pd.DataFrame(df_corr_all[df_corr_all['RecordLoc'] == 'DMS'])\n",
    "df_corr = pd.DataFrame(df_corr_all[df_corr_all['RecordLoc'] == 'NaC']).reset_index()"
   ]
  },
  {
   "cell_type": "code",
   "execution_count": 97,
   "metadata": {},
   "outputs": [],
   "source": [
    "# normalize\n",
    "\n",
    "def normalize(x, mu, std):\n",
    "    return (x - mu) / std\n",
    "\n",
    "\n",
    "for mouse_id in np.unique(df_corr['MouseID']):\n",
    "    \n",
    "    mice_q = np.copy(df_corr.loc[df_corr['MouseID'] == mouse_id, 'Q_dir_diff'].values)\n",
    "    mice_mu = (np.mean(mice_q[~np.isnan(mice_q)]))\n",
    "    mice_std = (np.std(mice_q[~np.isnan(mice_q)]))\n",
    "\n",
    "    df_corr.loc[df_corr['MouseID'] == mouse_id, 'Q_dir_diff'] = normalize(mice_q, mice_mu, mice_std)\n",
    "\n",
    "    "
   ]
  },
  {
   "cell_type": "markdown",
   "metadata": {},
   "source": [
    "# regression with all timepoints"
   ]
  },
  {
   "cell_type": "code",
   "execution_count": 98,
   "metadata": {
    "collapsed": true
   },
   "outputs": [],
   "source": [
    "df_corr_r = df_corr.drop(['g_np', 'g_lp', 'g_choice', 'g_reward', 'Stay/Leave'], axis = 1)\n",
    "gcamp_temp = pd.DataFrame(list(df_corr.g_lp.values)) #update "
   ]
  },
  {
   "cell_type": "code",
   "execution_count": 99,
   "metadata": {
    "collapsed": true
   },
   "outputs": [],
   "source": [
    "df_corr_g_r = df_corr_r.join(gcamp_temp)\n",
    "df_corr_g_r = df_corr_g_r.dropna()"
   ]
  },
  {
   "cell_type": "code",
   "execution_count": 100,
   "metadata": {
    "scrolled": true
   },
   "outputs": [
    {
     "data": {
      "text/plain": [
       "NULL\n"
      ]
     },
     "metadata": {},
     "output_type": "display_data"
    }
   ],
   "source": [
    "%%R -i df_corr_g_r\n",
    "# print(df_corr_g_r['X0'])\n"
   ]
  },
  {
   "cell_type": "code",
   "execution_count": 101,
   "metadata": {
    "scrolled": true
   },
   "outputs": [
    {
     "data": {
      "text/plain": [
       "[1] \"One third done\"\n",
       "[1] \"two third done\"\n",
       "[1] \"done\"\n"
      ]
     },
     "metadata": {},
     "output_type": "display_data"
    },
    {
     "data": {
      "application/javascript": [
       "$(document).ready(\n",
       "    function() {\n",
       "        function appendUniqueDiv(){\n",
       "            // append a div with our uuid so we can check that it's already\n",
       "            // been sent and avoid duplicates on page reload\n",
       "            var notifiedDiv = document.createElement(\"div\")\n",
       "            notifiedDiv.id = \"5b887505-4ffd-48be-a16e-e45e577326fc\"\n",
       "            element.append(notifiedDiv)\n",
       "        }\n",
       "\n",
       "        // only send notifications if the pageload is complete; this will\n",
       "        // help stop extra notifications when a saved notebook is loaded,\n",
       "        // which during testing gives us state \"interactive\", not \"complete\"\n",
       "        if (document.readyState === 'complete') {\n",
       "            // check for the div that signifies that the notification\n",
       "            // was already sent\n",
       "            if (document.getElementById(\"5b887505-4ffd-48be-a16e-e45e577326fc\") === null) {\n",
       "                var notificationPayload = {\"requireInteraction\": false, \"icon\": \"/static/base/images/favicon.ico\", \"body\": \"Cell Execution Has Finished!!\", \"autonotify_after\": \"30\", \"autonotify_output\": false};\n",
       "                if (Notification.permission !== 'denied') {\n",
       "                    if (Notification.permission !== 'granted') { \n",
       "                        Notification.requestPermission(function (permission) {\n",
       "                            if(!('permission' in Notification)) {\n",
       "                                Notification.permission = permission\n",
       "                            }\n",
       "                        })\n",
       "                    }\n",
       "                    if (Notification.permission === 'granted') {\n",
       "                    var notification = new Notification(\"Jupyter Notebook\", notificationPayload)\n",
       "                    appendUniqueDiv()\n",
       "                    notification.onclick = function () {\n",
       "                        window.focus();\n",
       "                        this.close();\n",
       "                        };\n",
       "                    } \n",
       "                }     \n",
       "            }\n",
       "        }\n",
       "    }\n",
       ")\n"
      ],
      "text/plain": [
       "<IPython.core.display.Javascript object>"
      ]
     },
     "metadata": {},
     "output_type": "display_data"
    }
   ],
   "source": [
    "%%R \n",
    "\n",
    "models = c('lmer(X0~  Q_dir_diff * Action + (1 + Q_dir_diff * Action |MouseID), data = i)', 'lmer(X1~  Q_dir_diff * Action + (1 + Q_dir_diff * Action |MouseID), data = i)', 'lmer(X2~  Q_dir_diff * Action + (1 + Q_dir_diff * Action |MouseID), data = i)', 'lmer(X3~  Q_dir_diff * Action + (1 + Q_dir_diff * Action |MouseID), data = i)', 'lmer(X4~  Q_dir_diff * Action + (1 + Q_dir_diff * Action |MouseID), data = i)', 'lmer(X5~  Q_dir_diff * Action + (1 + Q_dir_diff * Action |MouseID), data = i)', 'lmer(X6~  Q_dir_diff * Action + (1 + Q_dir_diff * Action |MouseID), data = i)', 'lmer(X7~  Q_dir_diff * Action + (1 + Q_dir_diff * Action |MouseID), data = i)', 'lmer(X8~  Q_dir_diff * Action + (1 + Q_dir_diff * Action |MouseID), data = i)', 'lmer(X9~  Q_dir_diff * Action + (1 + Q_dir_diff * Action |MouseID), data = i)', 'lmer(X10~  Q_dir_diff * Action + (1 + Q_dir_diff * Action |MouseID), data = i)', 'lmer(X11~  Q_dir_diff * Action + (1 + Q_dir_diff * Action |MouseID), data = i)', 'lmer(X12~  Q_dir_diff * Action + (1 + Q_dir_diff * Action |MouseID), data = i)', 'lmer(X13~  Q_dir_diff * Action + (1 + Q_dir_diff * Action |MouseID), data = i)', 'lmer(X14~  Q_dir_diff * Action + (1 + Q_dir_diff * Action |MouseID), data = i)')\n",
    "# rmodels = c('lmer(X0~  Q_ch_diff * Action + Reward + (1 + Reward + Q_ch_diff * Action |MouseID), data = i)', 'lmer(X1~  Q_ch_diff * Action + Reward + (1 + Reward + Q_ch_diff * Action |MouseID), data = i)', 'lmer(X2~  Q_ch_diff * Action + Reward + (1 + Reward + Q_ch_diff * Action |MouseID), data = i)', 'lmer(X3~  Q_ch_diff * Action + Reward + (1 + Reward + Q_ch_diff * Action |MouseID), data = i)', 'lmer(X4~  Q_ch_diff * Action + Reward + (1 + Reward + Q_ch_diff * Action |MouseID), data = i)', 'lmer(X5~  Q_ch_diff * Action + Reward + (1 + Reward + Q_ch_diff * Action |MouseID), data = i)', 'lmer(X6~  Q_ch_diff * Action + Reward + (1 + Reward + Q_ch_diff * Action |MouseID), data = i)', 'lmer(X7~  Q_ch_diff * Action + Reward + (1 + Reward + Q_ch_diff * Action |MouseID), data = i)', 'lmer(X8~  Q_ch_diff * Action + Reward + (1 + Reward + Q_ch_diff * Action |MouseID), data = i)', 'lmer(X9~  Q_ch_diff * Action + Reward + (1 + Reward + Q_ch_diff * Action |MouseID), data = i)', 'lmer(X10~  Q_ch_diff * Action + Reward + (1 + Reward + Q_ch_diff * Action |MouseID), data = i)', 'lmer(X11~  Q_ch_diff * Action + Reward + (1 + Reward + Q_ch_diff * Action |MouseID), data = i)', 'lmer(X12~  Q_ch_diff * Action + Reward + (1 + Reward + Q_ch_diff * Action |MouseID), data = i)', 'lmer(X13~  Q_ch_diff * Action + Reward + (1 + Reward + Q_ch_diff * Action |MouseID), data = i)', 'lmer(X14~  Q_ch_diff * Action + Reward + (1 + Reward + Q_ch_diff * Action |MouseID), data = i)')\n",
    "np_i = f_lmer_mc(df_corr_g_r, models, 15)\n",
    "m = np_i\n",
    "\n",
    "print('One third done')\n",
    "models2 = c('lmer(X15~  Q_dir_diff * Action + (1 + Q_dir_diff * Action |MouseID), data = i)', 'lmer(X16~  Q_dir_diff * Action + (1 + Q_dir_diff * Action |MouseID), data = i)', 'lmer(X17~  Q_dir_diff * Action + (1 + Q_dir_diff * Action |MouseID), data = i)', 'lmer(X18~  Q_dir_diff * Action + (1 + Q_dir_diff * Action |MouseID), data = i)', 'lmer(X19~  Q_dir_diff * Action + (1 + Q_dir_diff * Action |MouseID), data = i)', 'lmer(X20~  Q_dir_diff * Action + (1 + Q_dir_diff * Action |MouseID), data = i)', 'lmer(X21~  Q_dir_diff * Action + (1 + Q_dir_diff * Action |MouseID), data = i)', 'lmer(X22~  Q_dir_diff * Action + (1 + Q_dir_diff * Action |MouseID), data = i)', 'lmer(X23~  Q_dir_diff * Action + (1 + Q_dir_diff * Action |MouseID), data = i)', 'lmer(X24~  Q_dir_diff * Action + (1 + Q_dir_diff * Action |MouseID), data = i)', 'lmer(X25~  Q_dir_diff * Action + (1 + Q_dir_diff * Action |MouseID), data = i)', 'lmer(X26~  Q_dir_diff * Action + (1 + Q_dir_diff * Action |MouseID), data = i)', 'lmer(X27~  Q_dir_diff * Action + (1 + Q_dir_diff * Action |MouseID), data = i)', 'lmer(X28~  Q_dir_diff * Action + (1 + Q_dir_diff * Action |MouseID), data = i)', 'lmer(X29~  Q_dir_diff * Action + (1 + Q_dir_diff * Action |MouseID), data = i)')\n",
    "# rmodels2 = c('lmer(X15~  Q_ch_diff * Action + Reward + (1 + Reward + Q_ch_diff * Action |MouseID), data = i)', 'lmer(X16~  Q_ch_diff * Action + Reward + (1 + Reward + Q_ch_diff * Action |MouseID), data = i)', 'lmer(X17~  Q_ch_diff * Action + Reward + (1 + Reward + Q_ch_diff * Action |MouseID), data = i)', 'lmer(X18~  Q_ch_diff * Action + Reward + (1 + Reward + Q_ch_diff * Action |MouseID), data = i)', 'lmer(X19~  Q_ch_diff * Action + Reward + (1 + Reward + Q_ch_diff * Action |MouseID), data = i)', 'lmer(X20~  Q_ch_diff * Action + Reward + (1 + Reward + Q_ch_diff * Action |MouseID), data = i)', 'lmer(X21~  Q_ch_diff * Action + Reward + (1 + Reward + Q_ch_diff * Action |MouseID), data = i)', 'lmer(X22~  Q_ch_diff * Action + Reward + (1 + Reward + Q_ch_diff * Action |MouseID), data = i)', 'lmer(X23~  Q_ch_diff * Action + Reward + (1 + Reward + Q_ch_diff * Action |MouseID), data = i)', 'lmer(X24~  Q_ch_diff * Action + Reward + (1 + Reward + Q_ch_diff * Action |MouseID), data = i)', 'lmer(X25~  Q_ch_diff * Action + Reward + (1 + Reward + Q_ch_diff * Action |MouseID), data = i)', 'lmer(X26~  Q_ch_diff * Action + Reward + (1 + Reward + Q_ch_diff * Action |MouseID), data = i)', 'lmer(X27~  Q_ch_diff * Action + Reward + (1 + Reward + Q_ch_diff * Action |MouseID), data = i)', 'lmer(X28~  Q_ch_diff * Action + Reward + (1 + Reward + Q_ch_diff * Action |MouseID), data = i)', 'lmer(X29~  Q_ch_diff * Action + Reward + (1 + Reward + Q_ch_diff * Action |MouseID), data = i)')\n",
    "np_i = f_lmer_mc(df_corr_g_r, models2, 15)\n",
    "m = c(m, np_i)\n",
    "\n",
    "print('two third done')\n",
    "\n",
    "models3 = c('lmer(X30~  Q_dir_diff * Action + (1 + Q_dir_diff * Action |MouseID), data = i)', 'lmer(X31~  Q_dir_diff * Action + (1 + Q_dir_diff * Action |MouseID), data = i)', 'lmer(X32~  Q_dir_diff * Action + (1 + Q_dir_diff * Action |MouseID), data = i)', 'lmer(X33~  Q_dir_diff * Action + (1 + Q_dir_diff * Action |MouseID), data = i)', 'lmer(X34~  Q_dir_diff * Action + (1 + Q_dir_diff * Action |MouseID), data = i)', 'lmer(X35~  Q_dir_diff * Action + (1 + Q_dir_diff * Action |MouseID), data = i)', 'lmer(X36~  Q_dir_diff * Action + (1 + Q_dir_diff * Action |MouseID), data = i)', 'lmer(X37~  Q_dir_diff * Action + (1 + Q_dir_diff * Action |MouseID), data = i)', 'lmer(X38~  Q_dir_diff * Action + (1 + Q_dir_diff * Action |MouseID), data = i)', 'lmer(X39~  Q_dir_diff * Action + (1 + Q_dir_diff * Action |MouseID), data = i)', 'lmer(X40~  Q_dir_diff * Action + (1 + Q_dir_diff * Action |MouseID), data = i)', 'lmer(X41~  Q_dir_diff * Action + (1 + Q_dir_diff * Action |MouseID), data = i)', 'lmer(X42~  Q_dir_diff * Action + (1 + Q_dir_diff * Action |MouseID), data = i)', 'lmer(X43~  Q_dir_diff * Action + (1 + Q_dir_diff * Action |MouseID), data = i)', 'lmer(X44~  Q_dir_diff * Action + (1 + Q_dir_diff * Action |MouseID), data = i)')\n",
    "# rmodels3 = c('lmer(X30~  Q_ch_diff * Action + Reward + (1 + Reward + Q_ch_diff * Action |MouseID), data = i)', 'lmer(X31~  Q_ch_diff * Action + Reward + (1 + Reward + Q_ch_diff * Action |MouseID), data = i)', 'lmer(X32~  Q_ch_diff * Action + Reward + (1 + Reward + Q_ch_diff * Action |MouseID), data = i)', 'lmer(X33~  Q_ch_diff * Action + Reward + (1 + Reward + Q_ch_diff * Action |MouseID), data = i)', 'lmer(X34~  Q_ch_diff * Action + Reward + (1 + Reward + Q_ch_diff * Action |MouseID), data = i)', 'lmer(X35~  Q_ch_diff * Action + Reward + (1 + Reward + Q_ch_diff * Action |MouseID), data = i)', 'lmer(X36~  Q_ch_diff * Action + Reward + (1 + Reward + Q_ch_diff * Action |MouseID), data = i)', 'lmer(X37~  Q_ch_diff * Action + Reward + (1 + Reward + Q_ch_diff * Action |MouseID), data = i)', 'lmer(X38~  Q_ch_diff * Action + Reward + (1 + Reward + Q_ch_diff * Action |MouseID), data = i)', 'lmer(X39~  Q_ch_diff * Action + Reward + (1 + Reward + Q_ch_diff * Action |MouseID), data = i)', 'lmer(X40~  Q_ch_diff * Action + Reward + (1 + Reward + Q_ch_diff * Action |MouseID), data = i)', 'lmer(X41~  Q_ch_diff * Action + Reward + (1 + Reward + Q_ch_diff * Action |MouseID), data = i)', 'lmer(X42~  Q_ch_diff * Action + Reward + (1 + Reward + Q_ch_diff * Action |MouseID), data = i)', 'lmer(X43~  Q_ch_diff * Action + Reward + (1 + Reward + Q_ch_diff * Action |MouseID), data = i)', 'lmer(X44~  Q_ch_diff * Action + Reward + (1 + Reward + Q_ch_diff * Action |MouseID), data = i)')\n",
    "np_i = f_lmer_mc(df_corr_g_r, models3, 15)\n",
    "m = c(m, np_i)\n",
    "\n",
    "\n",
    "print('done')\n",
    "\n",
    "\n"
   ]
  },
  {
   "cell_type": "code",
   "execution_count": 102,
   "metadata": {
    "scrolled": true
   },
   "outputs": [
    {
     "name": "stderr",
     "output_type": "stream",
     "text": [
      "/anaconda/envs/biomath2/lib/python3.6/site-packages/rpy2/rinterface/__init__.py:186: RRuntimeWarning: Error in calculation of the Satterthwaite's approximation. The output of lme4 package is returned\n",
      "\n",
      "  warnings.warn(x, RRuntimeWarning)\n",
      "/anaconda/envs/biomath2/lib/python3.6/site-packages/rpy2/rinterface/__init__.py:186: RRuntimeWarning: summary from lme4 is returned\n",
      "some computational error has occurred in lmerTest\n",
      "\n",
      "  warnings.warn(x, RRuntimeWarning)\n"
     ]
    },
    {
     "data": {
      "application/javascript": [
       "$(document).ready(\n",
       "    function() {\n",
       "        function appendUniqueDiv(){\n",
       "            // append a div with our uuid so we can check that it's already\n",
       "            // been sent and avoid duplicates on page reload\n",
       "            var notifiedDiv = document.createElement(\"div\")\n",
       "            notifiedDiv.id = \"ff26f68e-717d-44b9-942f-c5e2c3d9c082\"\n",
       "            element.append(notifiedDiv)\n",
       "        }\n",
       "\n",
       "        // only send notifications if the pageload is complete; this will\n",
       "        // help stop extra notifications when a saved notebook is loaded,\n",
       "        // which during testing gives us state \"interactive\", not \"complete\"\n",
       "        if (document.readyState === 'complete') {\n",
       "            // check for the div that signifies that the notification\n",
       "            // was already sent\n",
       "            if (document.getElementById(\"ff26f68e-717d-44b9-942f-c5e2c3d9c082\") === null) {\n",
       "                var notificationPayload = {\"requireInteraction\": false, \"icon\": \"/static/base/images/favicon.ico\", \"body\": \"Cell Execution Has Finished!!\", \"autonotify_after\": \"30\", \"autonotify_output\": false};\n",
       "                if (Notification.permission !== 'denied') {\n",
       "                    if (Notification.permission !== 'granted') { \n",
       "                        Notification.requestPermission(function (permission) {\n",
       "                            if(!('permission' in Notification)) {\n",
       "                                Notification.permission = permission\n",
       "                            }\n",
       "                        })\n",
       "                    }\n",
       "                    if (Notification.permission === 'granted') {\n",
       "                    var notification = new Notification(\"Jupyter Notebook\", notificationPayload)\n",
       "                    appendUniqueDiv()\n",
       "                    notification.onclick = function () {\n",
       "                        window.focus();\n",
       "                        this.close();\n",
       "                        };\n",
       "                    } \n",
       "                }     \n",
       "            }\n",
       "        }\n",
       "    }\n",
       ")\n"
      ],
      "text/plain": [
       "<IPython.core.display.Javascript object>"
      ]
     },
     "metadata": {},
     "output_type": "display_data"
    }
   ],
   "source": [
    "%%R -o df_all\n",
    "for (i in seq(45)){\n",
    "    df = as.data.frame(coef(summary(m[[i]])))\n",
    "\n",
    "    if (ncol(df) == 3){\n",
    "        df$'t value' = NA\n",
    "        df$'Pr(>|t|)' = NA\n",
    "        df$df = NA \n",
    "    }\n",
    "    df$names = rownames(df)\n",
    "    rownames(df) = NULL\n",
    "    df$timelocked = 'LeverPrsnt' #update\n",
    "    df$RecordLoc = 'NaC'    #update\n",
    "    df$time = (i - 16)/15\n",
    "\n",
    "                       \n",
    "    if (i == 1) {\n",
    "        df_all = df\n",
    "    } else {\n",
    "        df_all = rbind(df_all, df)\n",
    "    }\n",
    "}"
   ]
  },
  {
   "cell_type": "code",
   "execution_count": 103,
   "metadata": {
    "collapsed": true
   },
   "outputs": [],
   "source": [
    "df_all.to_csv(os.path.join('data/NaC', 'dir_lever_m.csv')) #update"
   ]
  },
  {
   "cell_type": "code",
   "execution_count": 52,
   "metadata": {},
   "outputs": [
    {
     "data": {
      "text/plain": [
       "Linear mixed model fit by REML t-tests use Satterthwaite approximations to\n",
       "  degrees of freedom [lmerMod]\n",
       "Formula: X0 ~ Q_ch_diff * Action + (1 + Q_ch_diff * Action | MouseID)\n",
       "   Data: i\n",
       "\n",
       "REML criterion at convergence: 17343\n",
       "\n",
       "Scaled residuals: \n",
       "    Min      1Q  Median      3Q     Max \n",
       "-3.9802 -0.6173 -0.1226  0.4662  5.6948 \n",
       "\n",
       "Random effects:\n",
       " Groups   Name                Variance Std.Dev. Corr             \n",
       " MouseID  (Intercept)         0.042151 0.20531                   \n",
       "          Q_ch_diff           0.009591 0.09794   0.63            \n",
       "          ActionIps           0.037132 0.19270  -0.89 -0.53      \n",
       "          Q_ch_diff:ActionIps 0.013212 0.11494  -0.23 -0.90  0.12\n",
       " Residual                     0.551361 0.74254                   \n",
       "Number of obs: 7698, groups:  MouseID, 11\n",
       "\n",
       "Fixed effects:\n",
       "                    Estimate Std. Error       df t value Pr(>|t|)   \n",
       "(Intercept)         -0.23186    0.06338 10.03600  -3.658  0.00438 **\n",
       "Q_ch_diff           -0.04664    0.03694  8.36700  -1.262  0.24082   \n",
       "ActionIps           -0.09331    0.06173 10.03500  -1.512  0.16149   \n",
       "Q_ch_diff:ActionIps -0.05428    0.04822 10.41500  -1.126  0.28552   \n",
       "---\n",
       "Signif. codes:  0 ‘***’ 0.001 ‘**’ 0.01 ‘*’ 0.05 ‘.’ 0.1 ‘ ’ 1\n",
       "\n",
       "Correlation of Fixed Effects:\n",
       "            (Intr) Q_ch_d ActnIp\n",
       "Q_ch_diff    0.437              \n",
       "ActionIps   -0.864 -0.342       \n",
       "Q_ch_dff:AI -0.116 -0.799 -0.034\n"
      ]
     },
     "metadata": {},
     "output_type": "display_data"
    }
   ],
   "source": [
    "%R print(summary(m[[1]]))"
   ]
  },
  {
   "cell_type": "code",
   "execution_count": null,
   "metadata": {
    "collapsed": true
   },
   "outputs": [],
   "source": [
    "%%R -o df_all\n",
    "df_all$timelocked = 'Reward'"
   ]
  },
  {
   "cell_type": "code",
   "execution_count": 20,
   "metadata": {
    "scrolled": true
   },
   "outputs": [
    {
     "data": {
      "text/plain": [
       "[<matplotlib.lines.Line2D at 0x11d09db38>]"
      ]
     },
     "execution_count": 20,
     "metadata": {},
     "output_type": "execute_result"
    },
    {
     "data": {
      "image/png": "[encoded data removed]",
      "text/plain": [
       "<matplotlib.figure.Figure at 0x11ce81710>"
      ]
     },
     "metadata": {},
     "output_type": "display_data"
    }
   ],
   "source": [
    "plt.plot(np.unique(df_all['time']), df_all[df_all['names'] == '(Intercept)'].Estimate)"
   ]
  },
  {
   "cell_type": "code",
   "execution_count": null,
   "metadata": {},
   "outputs": [],
   "source": [
    "%R reward_m[[2]]"
   ]
  },
  {
   "cell_type": "code",
   "execution_count": null,
   "metadata": {},
   "outputs": [],
   "source": [
    "%%R\n",
    "if(requireNamespace(\"pbkrtest\", quietly = TRUE))\n",
    "    print(summary(reward_m[[15]], ddf=\"Kenward-Roger\"))"
   ]
  },
  {
   "cell_type": "code",
   "execution_count": null,
   "metadata": {},
   "outputs": [],
   "source": [
    "%R print(coef(reward_m[[15]], ddf=\"Kenward-Roger\"))"
   ]
  },
  {
   "cell_type": "code",
   "execution_count": null,
   "metadata": {
    "collapsed": true
   },
   "outputs": [],
   "source": [
    "import pickle \n",
    "# mm = [nosepoke_m, leverpress_m, choice_m, reward_m]\n",
    "pickle.dump(mm, open( \"data/mm_reg_all_DMS.p\", \"wb\" ) )"
   ]
  },
  {
   "cell_type": "code",
   "execution_count": 61,
   "metadata": {},
   "outputs": [
    {
     "name": "stdout",
     "output_type": "stream",
     "text": [
      "['lmer(X0~  Q_dir_diff * Action + (1 + Q_dir_diff * Action |MouseID), data = i)', 'lmer(X1~  Q_dir_diff * Action + (1 + Q_dir_diff * Action |MouseID), data = i)', 'lmer(X2~  Q_dir_diff * Action + (1 + Q_dir_diff * Action |MouseID), data = i)', 'lmer(X3~  Q_dir_diff * Action + (1 + Q_dir_diff * Action |MouseID), data = i)', 'lmer(X4~  Q_dir_diff * Action + (1 + Q_dir_diff * Action |MouseID), data = i)', 'lmer(X5~  Q_dir_diff * Action + (1 + Q_dir_diff * Action |MouseID), data = i)', 'lmer(X6~  Q_dir_diff * Action + (1 + Q_dir_diff * Action |MouseID), data = i)', 'lmer(X7~  Q_dir_diff * Action + (1 + Q_dir_diff * Action |MouseID), data = i)', 'lmer(X8~  Q_dir_diff * Action + (1 + Q_dir_diff * Action |MouseID), data = i)', 'lmer(X9~  Q_dir_diff * Action + (1 + Q_dir_diff * Action |MouseID), data = i)', 'lmer(X10~  Q_dir_diff * Action + (1 + Q_dir_diff * Action |MouseID), data = i)', 'lmer(X11~  Q_dir_diff * Action + (1 + Q_dir_diff * Action |MouseID), data = i)', 'lmer(X12~  Q_dir_diff * Action + (1 + Q_dir_diff * Action |MouseID), data = i)', 'lmer(X13~  Q_dir_diff * Action + (1 + Q_dir_diff * Action |MouseID), data = i)', 'lmer(X14~  Q_dir_diff * Action + (1 + Q_dir_diff * Action |MouseID), data = i)']\n"
     ]
    }
   ],
   "source": [
    "models = []\n",
    "for i in np.arange(45):\n",
    "    models.append('lmer(X' + str(i) + '~  Q_dir_diff * Action + (1 + Q_dir_diff * Action |MouseID), data = i)')\n",
    "    \n",
    "print(models[:15])\n",
    "    "
   ]
  },
  {
   "cell_type": "markdown",
   "metadata": {},
   "source": [
    "# Analyzing Regression in real time"
   ]
  },
  {
   "cell_type": "code",
   "execution_count": null,
   "metadata": {},
   "outputs": [],
   "source": [
    "import pickle\n",
    "mm_reg = pickle.load( open( \"data/mm_reg_all_DMS.p\", \"rb\" ) )"
   ]
  },
  {
   "cell_type": "code",
   "execution_count": null,
   "metadata": {
    "collapsed": true
   },
   "outputs": [],
   "source": [
    "nosepoke_m = mm_reg[0]\n",
    "leverprsnt_m = mm_reg[1]\n",
    "choice_m = mm_reg[2]\n",
    "reward_m = mm_reg[3]\n",
    "%R -i nosepoke_m,leverprsnt_m,choice_m,reward_m"
   ]
  },
  {
   "cell_type": "code",
   "execution_count": null,
   "metadata": {
    "scrolled": true
   },
   "outputs": [],
   "source": [
    "%R print(summary(nosepoke_m[[2]]))"
   ]
  },
  {
   "cell_type": "code",
   "execution_count": null,
   "metadata": {
    "collapsed": true
   },
   "outputs": [],
   "source": [
    "df = pd.read_csv('data/mm_reg_vals.csv')"
   ]
  },
  {
   "cell_type": "code",
   "execution_count": null,
   "metadata": {},
   "outputs": [],
   "source": [
    "plt.figure(figsize = (12, 4))\n",
    "ax = plt.gca()\n",
    "sns.barplot(data = df, x = 'timelocked', y = 'Estimate', hue = 'names')\n",
    "plt.legend(bbox_to_anchor=(1.05, 1), loc=2, borderaxespad=0.)\n",
    "ax.errorbar(x=np.delete(np.arange(-0.3, 3.4, 0.2), [4, 9, 14]), y=df.Estimate, yerr=df['Std. Error'], fmt = 'None', elinewidth = 2, ecolor = 'k')\n"
   ]
  },
  {
   "cell_type": "code",
   "execution_count": null,
   "metadata": {},
   "outputs": [],
   "source": [
    "df"
   ]
  },
  {
   "cell_type": "markdown",
   "metadata": {},
   "source": [
    "# First Pass Regression\n",
    "\n"
   ]
  },
  {
   "cell_type": "markdown",
   "metadata": {},
   "source": [
    "**Regression to compute** \n",
    "\n",
    "avg_i ~  Q * Action + (1 + Q * Action |MouseID)\n",
    "\n",
    "avg_i averages over 0 - 1.0 seconds with i = nosepoke, leverpresentation, choice, reward\n",
    "\n",
    "Q = Q_chosen, Q_ch_diff, Q_dir_diff\n",
    "\n",
    "\n",
    "\n"
   ]
  },
  {
   "cell_type": "code",
   "execution_count": null,
   "metadata": {
    "collapsed": true
   },
   "outputs": [],
   "source": [
    "df_corr_r = df_corr.drop(['g_np', 'g_lp', 'g_choice', 'g_reward', 'Stay/Leave'], axis = 1)\n",
    "df_corr_r = df_corr_r.dropna()"
   ]
  },
  {
   "cell_type": "code",
   "execution_count": null,
   "metadata": {},
   "outputs": [],
   "source": [
    "%%R -i df_corr_r\n",
    "print(head(df_corr_r))\n"
   ]
  },
  {
   "cell_type": "code",
   "execution_count": null,
   "metadata": {},
   "outputs": [],
   "source": [
    "%%R -o nosepoke_m,leverprsnt_m\n",
    "\n",
    "models = c(\"lmer(avg_np ~  Q_chosen * Action + (1 + Q_chosen * Action |MouseID), data = i)\",\n",
    "           \"lmer(avg_np ~  Q_ch_diff * Action + (1 + Q_ch_diff * Action |MouseID), data = i)\",\n",
    "          \"lmer(avg_np ~  Q_dir_diff * Action + (1 +  Q_dir_diff * Action|MouseID), data = i)\")\n",
    "np.list = f_lmer_mc(df_corr_r, models, 3)\n",
    "\n",
    "nosepoke_m = np.list\n",
    "\n",
    "models = c(\"lmer(avg_lp ~  Q_chosen * Action + (1 + Q_chosen * Action |MouseID), data = i)\",\n",
    "           \"lmer(avg_lp ~  Q_ch_diff * Action + (1 + Q_ch_diff * Action |MouseID), data = i)\",\n",
    "          \"lmer(avg_lp ~  Q_dir_diff * Action + (1 +  Q_dir_diff * Action|MouseID), data = i)\")\n",
    "lp.list = f_lmer_mc(df_corr_r, models, 3)\n",
    "\n",
    "leverprsnt_m = lp.list\n"
   ]
  },
  {
   "cell_type": "code",
   "execution_count": null,
   "metadata": {},
   "outputs": [],
   "source": [
    "%%R -o choice_m\n",
    "\n",
    "models = c(\"lmer(avg_ch ~  Q_chosen * Action + (1 + Q_chosen * Action |MouseID), data = i)\",\n",
    "           \"lmer(avg_ch ~  Q_ch_diff * Action + (1 + Q_ch_diff * Action |MouseID), data = i)\",\n",
    "          \"lmer(avg_ch ~  Q_dir_diff * Action + (1 +  Q_dir_diff * Action|MouseID), data = i)\")\n",
    "m.list = f_lmer_mc(df_corr_r, models, 3)\n",
    "\n",
    "choice_m = m.list\n",
    "\n",
    "models = c(\"lmer(avg_r ~  Q_chosen * Action + (1 + Q_chosen * Action |MouseID), data = i)\",\n",
    "           \"lmer(avg_r ~  Q_ch_diff * Action + (1 + Q_ch_diff * Action |MouseID), data = i)\",\n",
    "          \"lmer(avg_r ~  Q_dir_diff * Action + (1 +  Q_dir_diff * Action|MouseID), data = i)\")\n",
    "m.list = f_lmer_mc(df_corr_r, models, 3)\n",
    "\n",
    "reward_m = m.list\n"
   ]
  },
  {
   "cell_type": "code",
   "execution_count": null,
   "metadata": {
    "collapsed": true
   },
   "outputs": [],
   "source": [
    "import pickle \n",
    "mm = [nosepoke_m, leverprsnt_m, choice_m, reward_m]\n",
    "pickle.dump(mm, open( \"data/mm_reg.p\", \"wb\" ) )"
   ]
  },
  {
   "cell_type": "code",
   "execution_count": null,
   "metadata": {},
   "outputs": [],
   "source": [
    "%R print(r.squaredGLMM(nosepoke_m[[1]]))\n",
    "%R print(r.squaredGLMM(nosepoke_m[[2]]))\n",
    "%R print(r.squaredGLMM(nosepoke_m[[3]]))\n"
   ]
  },
  {
   "cell_type": "code",
   "execution_count": null,
   "metadata": {
    "collapsed": true
   },
   "outputs": [],
   "source": [
    "%%R\n",
    "Q_type = 2\n",
    "df = as.data.frame(coef(summary(nosepoke_m[[Q_type]])))\n",
    "df$names = rownames(df)\n",
    "rownames(df) = NULL\n",
    "df$timelocked = 'Nosepoke'\n",
    "\n",
    "\n"
   ]
  },
  {
   "cell_type": "code",
   "execution_count": null,
   "metadata": {},
   "outputs": [],
   "source": [
    "%R mm[1][[1]]"
   ]
  },
  {
   "cell_type": "code",
   "execution_count": null,
   "metadata": {},
   "outputs": [],
   "source": [
    "%%R -o\n",
    "to_add <- c(leverprsnt_m[[Q_type]], choice_m[[Q_type]], reward_m[[Q_type]])\n",
    "tl = c('LeverPress', 'Choice', 'Reward')\n",
    "i = 0\n",
    "for (mm_i in to_add){\n",
    "    i = i + 1\n",
    "    df_temp = as.data.frame(coef(summary(mm_i)))\n",
    "    df_temp$names = rownames(df_temp)\n",
    "    rownames(df_temp) = NULL\n",
    "    df_temp$timelocked = tl[i]\n",
    "    df = rbind(df, df_temp)\n",
    "}\n",
    "\n"
   ]
  },
  {
   "cell_type": "code",
   "execution_count": null,
   "metadata": {
    "collapsed": true
   },
   "outputs": [],
   "source": []
  },
  {
   "cell_type": "code",
   "execution_count": null,
   "metadata": {},
   "outputs": [],
   "source": [
    "%R print(summary(reward_m[[1]]))"
   ]
  },
  {
   "cell_type": "markdown",
   "metadata": {},
   "source": [
    "# Diagnostics Scripts"
   ]
  },
  {
   "cell_type": "code",
   "execution_count": null,
   "metadata": {
    "collapsed": true
   },
   "outputs": [],
   "source": [
    "%time %R print(summary(lmer('avg_lp ~  Q_chosen * Action + (1 + Q_chosen * Action |MouseID)', data=df_corr_r)))\n"
   ]
  },
  {
   "cell_type": "code",
   "execution_count": null,
   "metadata": {
    "collapsed": true
   },
   "outputs": [],
   "source": [
    "# test_data = sm.datasets.get_rdataset('dietox', 'geepack').data\n",
    "\n",
    "# Simplest Regression \n",
    "formula = 'avg_lp ~  Q_chosen'\n",
    "lm = ols(formula, data = df_corr).fit()\n",
    "lm.summary()\n",
    "\n",
    "formula = 'avg_lp ~  Q_chosen * Action' # with interaction\n",
    "\n"
   ]
  },
  {
   "cell_type": "code",
   "execution_count": null,
   "metadata": {
    "collapsed": true
   },
   "outputs": [],
   "source": [
    "plt.plot(lm.resid)"
   ]
  },
  {
   "cell_type": "code",
   "execution_count": null,
   "metadata": {
    "collapsed": true
   },
   "outputs": [],
   "source": [
    "from statsmodels.graphics.regressionplots import plot_leverage_resid2\n",
    "fig, ax = plt.subplots(figsize=(8,6))\n",
    "fig = plot_leverage_resid2(lm, ax = ax)"
   ]
  },
  {
   "cell_type": "code",
   "execution_count": null,
   "metadata": {
    "collapsed": true
   },
   "outputs": [],
   "source": [
    "influence = lm.get_influence()\n",
    "#c is the distance and p is p-value\n",
    "(c, p) = influence.cooks_distance\n",
    "plt.stem(np.arange(len(c)), c, markerfmt=\",\")"
   ]
  },
  {
   "cell_type": "code",
   "execution_count": null,
   "metadata": {
    "collapsed": true
   },
   "outputs": [],
   "source": []
  }
 ],
 "metadata": {
  "kernelspec": {
   "display_name": "Python [conda env:biomath2]",
   "language": "python",
   "name": "conda-env-biomath2-py"
  },
  "language_info": {
   "codemirror_mode": {
    "name": "ipython",
    "version": 3
   },
   "file_extension": ".py",
   "mimetype": "text/x-python",
   "name": "python",
   "nbconvert_exporter": "python",
   "pygments_lexer": "ipython3",
   "version": "3.6.1"
  },
  "toc": {
   "nav_menu": {},
   "number_sections": false,
   "sideBar": true,
   "skip_h1_title": false,
   "toc_cell": false,
   "toc_position": {},
   "toc_section_display": "block",
   "toc_window_display": false
  }
 },
 "nbformat": 4,
 "nbformat_minor": 2
}
