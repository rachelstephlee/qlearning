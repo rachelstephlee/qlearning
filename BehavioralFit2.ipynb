{
 "cells": [
  {
   "cell_type": "code",
   "execution_count": 1,
   "metadata": {
    "collapsed": true
   },
   "outputs": [],
   "source": [
    "import numpy as np \n",
    "import pandas as pd\n",
    "import pystan\n",
    "import stan_utility\n",
    "import scipy\n",
    "\n",
    "import matplotlib\n",
    "import matplotlib.pyplot as plt\n",
    "%matplotlib inline\n",
    "import seaborn as sns\n",
    "\n",
    "\n",
    "data = pd.read_csv('./data/dan_table.csv')\n",
    "\n",
    "# TrialStart = 0, 1. much more TrialStart == 0 than ==1 \n",
    "# First lick: Reward Enter\n",
    "# Next lick: Reward Exit (after they havne't licked for a while) -- not super reliable "
   ]
  },
  {
   "cell_type": "code",
   "execution_count": 2,
   "metadata": {},
   "outputs": [],
   "source": [
    "def inv_logit(arr):\n",
    "    '''Elementwise inverse logit (logistic) function.'''\n",
    "    return 1 / (1 + np.exp(-arr))\n",
    "\n",
    "def phi_approx(arr):\n",
    "    '''Elementwise fast approximation of the cumulative unit normal. \n",
    "    For details, see Bowling et al. (2009). \"A logistic approximation \n",
    "    to the cumulative normal distribution.\"'''\n",
    "    return inv_logit(0.07056 * arr ** 3 + 1.5976 * arr)"
   ]
  },
  {
   "cell_type": "code",
   "execution_count": 3,
   "metadata": {
    "collapsed": true
   },
   "outputs": [],
   "source": [
    "data = data[(data['RecordLoc'] == 1) ]\n",
    "\n",
    "# Somehow the length of data is different for different RecordLoc... I'm going to use DMS since I'll want to \n",
    "# model the neural data from that area later \n",
    "#         1 = VTA/SNc -> Dorsomedial Striatum\n",
    "#         2 = VTA/SNc -> Nucleus Accumbens\n",
    "#         3 = VTA/ SNc -> Dorsolateral Striatum (forgot i had these)\n",
    "#         4 = VTA/ SNc -> Dorsomedial Striatum Cell Bodies\n",
    "#         5 = GFP controls (DMS and NAc together)"
   ]
  },
  {
   "cell_type": "code",
   "execution_count": 4,
   "metadata": {
    "collapsed": true
   },
   "outputs": [],
   "source": [
    "# pull out trial by trial info \n",
    "\n",
    "data_t = []\n",
    "\n",
    "for mouse_id in np.unique(data['MouseID']):\n",
    "    data_small = data[data['MouseID'] == mouse_id]\n",
    "\n",
    "    trial_starts = np.where(data_small['TrialStart'] == 1)[0]\n",
    "    num_trials = len(trial_starts)\n",
    "\n",
    "    for t_i, t in enumerate(trial_starts):\n",
    "\n",
    "        if t_i == (num_trials - 1):\n",
    "            trial_end = len(data_small)\n",
    "        else:\n",
    "            trial_end = trial_starts[t_i + 1]\n",
    "\n",
    "        trial_df = data_small[t:trial_end];\n",
    "\n",
    "#         lever_press = np.where(trial_df['LeverPresentation'] == 1)[0][0]\n",
    "        if sum(trial_df.IpsLeverPress.values) >  sum(trial_df.ConLeverPress.values):\n",
    "            action = 'Ips'\n",
    "        else:\n",
    "            action = 'Con'\n",
    "\n",
    "        if sum(trial_df.CSplus.values) >  sum(trial_df.CSneg.values):\n",
    "            reward = 1\n",
    "        else:\n",
    "            reward = 0\n",
    "\n",
    "        data_t.append([ mouse_id, t_i, action, reward, t, trial_end]) #  lever_press])\n",
    "\n",
    "\n",
    "    \n",
    "    \n",
    "        "
   ]
  },
  {
   "cell_type": "code",
   "execution_count": 5,
   "metadata": {
    "collapsed": true
   },
   "outputs": [],
   "source": [
    "df_trials = pd.DataFrame(data_t, columns = ('MouseID', 'Trial', 'Action', 'Reward', 'TrialStart', 'TrialEnd')) # , 'LeverPress'))\n",
    "df_trials['TrialLen'] = df_trials['TrialEnd'] - df_trials['TrialStart']\n"
   ]
  },
  {
   "cell_type": "code",
   "execution_count": 6,
   "metadata": {
    "collapsed": true
   },
   "outputs": [],
   "source": [
    "NS = len(np.unique(df_trials['MouseID']))\n",
    "\n",
    "NT = max(df_trials.groupby('MouseID').count()['Trial'])\n",
    "NT_all = df_trials.groupby('MouseID').count()['Trial'].values\n",
    "\n",
    "c_str = np.empty([NS, NT], 'str')\n",
    "r = np.empty([NS, NT], int)\n",
    "r.fill(-1) # init with nan to ensure that shorter trials dont' get false data \n",
    "for s in np.arange(NS):\n",
    "    c_str[s, :NT_all[s]] = (df_trials[df_trials['MouseID'] == s + 1])['Action'].values\n",
    "    r[s, :NT_all[s]] = (df_trials[df_trials['MouseID'] == s + 1])['Reward'].values\n",
    "    \n",
    "c = np.empty([NS, NT], int)\n",
    "c.fill(-1)\n",
    "\n",
    "c[c_str == 'C'] = 0; \n",
    "c[c_str == 'I'] = 1;  \n",
    "\n",
    "standata = {'NS':NS,'NT':NT,'NT_all':NT_all, \n",
    "           'r':r, 'c':c}\n",
    "\n",
    "# pystan.stan_rdump(standata, 'rl_behavioral.data.R')\n"
   ]
  },
  {
   "cell_type": "code",
   "execution_count": 121,
   "metadata": {},
   "outputs": [
    {
     "name": "stderr",
     "output_type": "stream",
     "text": [
      "INFO:pystan:COMPILING THE C++ CODE FOR MODEL anon_model_4118c2f6c359f53bb379ae60404ecc7f NOW.\n"
     ]
    }
   ],
   "source": [
    "sm = pystan.StanModel(file = 'stan/qlearning2.stan')\n",
    "\n"
   ]
  },
  {
   "cell_type": "code",
   "execution_count": 127,
   "metadata": {},
   "outputs": [
    {
     "name": "stderr",
     "output_type": "stream",
     "text": [
      "INFO:pystan:COMPILING THE C++ CODE FOR MODEL anon_model_d693fe62672ceb27edff09fd186646d3 NOW.\n"
     ]
    }
   ],
   "source": [
    "fit_seeded = pystan.stan(file = 'stan/qlearning2.stan', data=standata, iter=1000, warmup=250, chains=4, \n",
    "                  seed = 2)"
   ]
  },
  {
   "cell_type": "markdown",
   "metadata": {},
   "source": [
    "## debug code"
   ]
  },
  {
   "cell_type": "code",
   "execution_count": 122,
   "metadata": {},
   "outputs": [],
   "source": [
    "mini = {'NS':3, 'NT':4, 'NT_all':[1, 2, 4], \n",
    "                 'r':r[:3, :4], 'c':c[:3,:4]}\n",
    "debug = sm.sampling(data=mini, iter=2, warmup=1, chains=1)\n",
    "extract = debug.extract()\n",
    "for k, v in mini.items(): extract[k] = v\n",
    "\n",
    "extract['prob_c']\n",
    "extract['c_hat']"
   ]
  },
  {
   "cell_type": "code",
   "execution_count": null,
   "metadata": {},
   "outputs": [],
   "source": []
  }
 ],
 "metadata": {
  "kernelspec": {
   "display_name": "Python 3 (Biomath)",
   "language": "python",
   "name": "biomath"
  },
  "language_info": {
   "codemirror_mode": {
    "name": "ipython",
    "version": 3
   },
   "file_extension": ".py",
   "mimetype": "text/x-python",
   "name": "python",
   "nbconvert_exporter": "python",
   "pygments_lexer": "ipython3",
   "version": "3.5.4"
  },
  "toc": {
   "nav_menu": {},
   "number_sections": false,
   "sideBar": true,
   "skip_h1_title": false,
   "toc_cell": false,
   "toc_position": {},
   "toc_section_display": "block",
   "toc_window_display": false
  }
 },
 "nbformat": 4,
 "nbformat_minor": 2
}
