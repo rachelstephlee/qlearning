{
 "cells": [
  {
   "cell_type": "markdown",
   "metadata": {},
   "source": [
    "This notebook will now have \n",
    "\n",
    "1. Q values differences for Contra - Ipsi from last trial \n",
    "2. Q values for chosen (Before choice) \n",
    "3. Q values differences for chosen - unchosen \n",
    "\n",
    "4. NaC + DMS GCaMP data "
   ]
  },
  {
   "cell_type": "code",
   "execution_count": 10,
   "metadata": {
    "collapsed": true
   },
   "outputs": [],
   "source": [
    "import numpy as np \n",
    "import pandas as pd\n",
    "import pystan\n",
    "import stan_utility\n",
    "import scipy\n",
    "import _pickle as cPickle\n",
    "\n",
    "\n",
    "import matplotlib\n",
    "import matplotlib.pyplot as plt\n",
    "%matplotlib inline\n",
    "import seaborn as sns\n",
    "import pandas as pd\n",
    "import os\n",
    "\n",
    "# to render plots with white background\n",
    "import seaborn as sns\n",
    "sns.set_style('white')\n",
    "sns.set_context('notebook', font_scale=1.2)\n",
    "\n"
   ]
  },
  {
   "cell_type": "code",
   "execution_count": 11,
   "metadata": {
    "collapsed": true
   },
   "outputs": [],
   "source": [
    "# pulling the data with sessions info and the data with gcamp together. \n",
    "data = pd.read_csv('./data/rachel_table.csv', names = ['gcamp', 'TrialStart', 'NosePokeEnter', 'NosePokeExit', 'LeverPresentation',\n",
    "                                                       'IpsLeverPress', 'ConLeverPress', 'CSplus', 'CSneg', 'RewardEnter',\n",
    "                                                       'RewardExit', 'MouseID', 'RecordLoc', 'Session'])\n",
    "\n",
    "data_g = pd.read_csv('./data/dan_table.csv')\n",
    "\n",
    "data['gcamp'] = data_g['gcamp']\n",
    "\n",
    "data = data[(data['RecordLoc'] != 5) ]\n",
    "\n",
    "# Somehow the length of data is different for different RecordLoc... I'm going to use DMS since I'll want to \n",
    "# model the neural data from that area later \n",
    "#         1 = VTA/SNc -> Dorsomedial Striatum\n",
    "#         2 = VTA/SNc -> Nucleus Accumbens\n",
    "#         3 = VTA/ SNc -> Dorsolateral Striatum (forgot i had these)\n",
    "#         4 = VTA/ SNc -> Dorsomedial Striatum Cell Bodies\n",
    "#         5 = GFP controls (DMS and NAc together)"
   ]
  },
  {
   "cell_type": "code",
   "execution_count": 12,
   "metadata": {},
   "outputs": [
    {
     "name": "stdout",
     "output_type": "stream",
     "text": [
      "CPU times: user 26.2 s, sys: 841 ms, total: 27 s\n",
      "Wall time: 27.8 s\n"
     ]
    }
   ],
   "source": [
    "%%time \n",
    "# pull out trial by trial info \n",
    "\n",
    "\n",
    "data_t = []\n",
    "\n",
    "for mouse_id in np.unique(data['MouseID']):\n",
    "    data_small = data[data['MouseID'] == mouse_id]\n",
    "\n",
    "    trial_starts = np.where(data_small['TrialStart'] == 1)[0]\n",
    "    num_trials = len(trial_starts)\n",
    "\n",
    "    for t_i, t in enumerate(trial_starts):\n",
    "\n",
    "        if t_i == (num_trials - 1):\n",
    "            trial_end = len(data_small)\n",
    "        else:\n",
    "            trial_end = trial_starts[t_i + 1]\n",
    "\n",
    "        trial_df = data_small[t:trial_end];\n",
    "\n",
    "#         lever_press = np.where(trial_df['LeverPresentation'] == 1)[0][0]\n",
    "        if sum(trial_df.IpsLeverPress.values) >  sum(trial_df.ConLeverPress.values):\n",
    "            action = 'Ips'\n",
    "        else:\n",
    "            action = 'Con'\n",
    "\n",
    "        if sum(trial_df.CSplus.values) >  sum(trial_df.CSneg.values):\n",
    "            reward = 1\n",
    "        else:\n",
    "            reward = 0\n",
    "\n",
    "        sess = np.unique(trial_df['Session'])[0]\n",
    "        recordloc = np.unique(trial_df['RecordLoc'])[0]\n",
    "        data_t.append([ mouse_id - 1, t_i, action, reward, t , sess, recordloc]) #  lever_press])\n",
    "\n",
    "  "
   ]
  },
  {
   "cell_type": "code",
   "execution_count": 13,
   "metadata": {
    "collapsed": true
   },
   "outputs": [],
   "source": [
    "df_trials = pd.DataFrame(data_t, columns = ('MouseID', 'Trial', 'Action', 'Reward', 'TrialStart',\n",
    "                                             'Session', 'RecordLoc'))\n",
    "                \n"
   ]
  },
  {
   "cell_type": "code",
   "execution_count": 14,
   "metadata": {
    "collapsed": true
   },
   "outputs": [],
   "source": [
    "NS = len(np.unique(df_trials['MouseID']))\n",
    "\n",
    "NT = max(df_trials.groupby('MouseID').count()['Trial'])\n",
    "NT_all = df_trials.groupby('MouseID').count()['Trial']\n",
    "\n",
    "c_str = np.empty([NS, NT], 'str')\n",
    "r = np.empty([NS, NT], int)\n",
    "r.fill(-1) # init with nan to ensure that shorter trials dont' get false data \n",
    "for i, s in enumerate(np.unique(df_trials['MouseID'])):\n",
    "    c_str[i, :NT_all[s]] = (df_trials[df_trials['MouseID'] == s])['Action'].values\n",
    "    r[i, :NT_all[s]] = (df_trials[df_trials['MouseID'] == s])['Reward'].values\n",
    "    \n",
    "c = np.empty([NS, NT], int)\n",
    "c.fill(-1)\n",
    "\n",
    "c[c_str == 'C'] = 0; \n",
    "c[c_str == 'I'] = 1;  \n",
    "\n",
    "\n",
    "standata = {'NS':NS,'NT':NT,'NT_all':NT_all, \n",
    "           'r':r, 'c':c}\n",
    "\n",
    "# pystan.stan_rdump(standata, 'rl_behavioral.data.R')\n",
    "# pickle.dump( standata, open( \"standata.p\", \"wb\" ) )"
   ]
  },
  {
   "cell_type": "markdown",
   "metadata": {},
   "source": [
    "# gcamp"
   ]
  },
  {
   "cell_type": "code",
   "execution_count": 27,
   "metadata": {},
   "outputs": [],
   "source": [
    "# just load df_gcamp \n",
    "\n",
    "df_gcamp = pd.DataFrame.from_csv(\"data/timelocked_gcamp_all.csv\")"
   ]
  },
  {
   "cell_type": "code",
   "execution_count": 15,
   "metadata": {},
   "outputs": [],
   "source": [
    "data_DMS = data[(data['RecordLoc'] == 1) ]\n",
    "data_NAC = data[(data['RecordLoc'] == 2) ]\n"
   ]
  },
  {
   "cell_type": "code",
   "execution_count": 16,
   "metadata": {},
   "outputs": [
    {
     "name": "stderr",
     "output_type": "stream",
     "text": [
      "/Users/sasha/anaconda/envs/biomath/lib/python3.5/site-packages/pandas/core/indexing.py:517: SettingWithCopyWarning: \n",
      "A value is trying to be set on a copy of a slice from a DataFrame.\n",
      "Try using .loc[row_indexer,col_indexer] = value instead\n",
      "\n",
      "See the caveats in the documentation: http://pandas.pydata.org/pandas-docs/stable/indexing.html#indexing-view-versus-copy\n",
      "  self.obj[item] = s\n"
     ]
    }
   ],
   "source": [
    "# normalize\n",
    "\n",
    "def normalize(x, mu, std):\n",
    "    return (x - mu) / std\n",
    "\n",
    "for data_src, save in zip([data_DMS, data_NAC], [0, 1]):\n",
    "\n",
    "    for mouse_id in np.unique(data_src['MouseID']):\n",
    "        mice_gcamp = np.copy(data_src.loc[data_src['MouseID'] == mouse_id, 'gcamp'].values)\n",
    "        mice_mu = (np.mean(mice_gcamp))\n",
    "        mice_std = (np.std(mice_gcamp))\n",
    "\n",
    "        data_src.loc[data_src['MouseID'] == mouse_id, 'gcamp'] = normalize(mice_gcamp, mice_mu, mice_std)\n",
    "\n",
    "    "
   ]
  },
  {
   "cell_type": "code",
   "execution_count": 17,
   "metadata": {},
   "outputs": [
    {
     "name": "stdout",
     "output_type": "stream",
     "text": [
      "CPU times: user 34.6 s, sys: 511 ms, total: 35.2 s\n",
      "Wall time: 35.5 s\n"
     ]
    }
   ],
   "source": [
    "%%time\n",
    "# pull out trial by trial info \n",
    "\n",
    "data_g = []\n",
    "data_nac = []\n",
    "\n",
    "for data_src, save in zip([data_DMS, data_NAC], [data_g, data_nac]):\n",
    "    dt = 15\n",
    "    LEN_BEFORE = dt\n",
    "    LEN_AFTER = dt * 2\n",
    "\n",
    "\n",
    "    for mouse_id in np.unique(data['MouseID']):\n",
    "        data_small = data_src[data_src['MouseID'] == mouse_id]\n",
    "\n",
    "\n",
    "        trial_starts = np.where(data_small['TrialStart'] == 1)[0]\n",
    "\n",
    "\n",
    "        num_trials = len(trial_starts)\n",
    "        \n",
    "        # for stay/leave from last trial\n",
    "        last_sess = -1\n",
    "\n",
    "        for t_i, t in enumerate(trial_starts):\n",
    "\n",
    "\n",
    "\n",
    "\n",
    "            if t_i == (num_trials - 1):\n",
    "                trial_end = len(data_small)\n",
    "            else:\n",
    "                trial_end = trial_starts[t_i + 1]\n",
    "\n",
    "            data_trial = data_small[t:trial_end];\n",
    "\n",
    "            # get gcamp after nose poke enter and before lever press \n",
    "            npe_i = np.where(data_trial['NosePokeEnter'] == 1)[0][0]\n",
    "            lp_i = np.where(data_trial['LeverPresentation'] == 1)[0][0]\n",
    "\n",
    "\n",
    "            # check choice and record time between lever and choice \n",
    "            if sum(data_trial.IpsLeverPress.values) >  sum(data_trial.ConLeverPress.values):\n",
    "                action = 'Ips'\n",
    "                choice_i = np.where(data_trial['IpsLeverPress'] == 1)[0][0]\n",
    "            else:\n",
    "                action = 'Con'\n",
    "                choice_i = np.where(data_trial['ConLeverPress'] == 1)[0][0]\n",
    "\n",
    "\n",
    "            # check if mice is rewarded \n",
    "            if sum(data_trial.CSplus.values) >  sum(data_trial.CSneg.values):\n",
    "                reward = 1\n",
    "                reward_i = np.where(data_trial['CSplus'] == 1)[0][0]\n",
    "                reward_end_i =  np.where(data_trial['RewardExit'] == 1)[0][0]\n",
    "            else:\n",
    "                reward = 0\n",
    "                reward_i = np.where(data_trial['CSneg'] == 1)[0][0]\n",
    "            \n",
    "            \n",
    "        \n",
    "            # get timelocked gcamp to each event             \n",
    "            gcamp_np = data_small['gcamp'].values[(t + npe_i - LEN_BEFORE): (t + npe_i + LEN_AFTER)]\n",
    "            gcamp_lp = data_small['gcamp'].values[(t + lp_i - LEN_BEFORE): (t + lp_i + LEN_AFTER)]\n",
    "            gcamp_choice = data_small['gcamp'].values[(t + choice_i - LEN_BEFORE): (t + choice_i + LEN_AFTER)]\n",
    "            gcamp_reward = data_small['gcamp'].values[(t + reward_i - LEN_BEFORE): (t + reward_i + LEN_AFTER)]\n",
    "\n",
    "\n",
    "                    \n",
    "                    \n",
    "            sess = np.unique(data_trial['Session'])[0]\n",
    "            recordloc = np.unique(data_trial['RecordLoc'])[0]\n",
    "            # check if mice stayed/left from previous choice\n",
    "            if last_sess != sess: # start of new session\n",
    "                ref = np.nan\n",
    "                last_sess = sess\n",
    "            else:\n",
    "                if last_action == action:\n",
    "                    ref = 'stay'\n",
    "                else:\n",
    "                    ref = 'leave'\n",
    "\n",
    "\n",
    "\n",
    "            save.append([ mouse_id - 1, t_i, action, reward, ref, \n",
    "                           gcamp_np,\n",
    "                           gcamp_lp, \n",
    "                           gcamp_choice, \n",
    "                            gcamp_reward, sess, recordloc]) #  lever_press])\n",
    "\n",
    "            # save last action for determining if mice stays/leaves\n",
    "            last_action = action\n",
    "\n"
   ]
  },
  {
   "cell_type": "code",
   "execution_count": 18,
   "metadata": {},
   "outputs": [],
   "source": [
    "df_DMS = pd.DataFrame(data_g, columns = ('MouseID', 'Trial', 'Action', 'Reward', 'Stay/Leave', \n",
    "                                             'g_np', \n",
    "                                              'g_lp', \n",
    "                                             'g_choice', \n",
    "                                             'g_reward', 'Session', 'RecordLoc')) \n",
    "\n",
    "\n",
    "\n",
    "df_NAC = pd.DataFrame(data_nac, columns = ('MouseID', 'Trial', 'Action', 'Reward', 'Stay/Leave', \n",
    "                                             'g_np', \n",
    "                                              'g_lp', \n",
    "                                             'g_choice', \n",
    "                                             'g_reward', 'Session', 'RecordLoc')) \n",
    "\n",
    "df_DMS['Reward_last'] = df_DMS['Reward'].groupby([df_DMS['Session'], df_DMS['MouseID']]).shift(1)\n",
    "\n",
    "\n",
    "df_NAC['Reward_last'] = df_NAC['Reward'].groupby([df_DMS['Session'], df_DMS['MouseID']]).shift(1)\n",
    "\n",
    "df_gcamp = pd.concat([df_DMS, df_NAC], ignore_index = True)\n",
    "\n",
    "df_gcamp = df_gcamp.replace({'RecordLoc': {1: 'DMS', 2: 'NaC'}})\n",
    "\n",
    "\n",
    "df_gcamp.to_csv(os.path.join('data/', 'timelocked_gcamp_all.csv'))\n",
    "\n",
    "\n"
   ]
  },
  {
   "cell_type": "code",
   "execution_count": 24,
   "metadata": {},
   "outputs": [
    {
     "data": {
      "text/plain": [
       "<matplotlib.legend.Legend at 0x11c10d080>"
      ]
     },
     "execution_count": 24,
     "metadata": {},
     "output_type": "execute_result"
    },
    {
     "data": {
      "image/png": "[encoded data removed]",
      "text/plain": [
       "<Figure size 720x360 with 1 Axes>"
      ]
     },
     "metadata": {},
     "output_type": "display_data"
    }
   ],
   "source": [
    "df_src = df_gcamp[df_gcamp['RecordLoc'] == 'NaC']\n",
    "\n",
    "figure = plt.figure(figsize = (10, 5))\n",
    "for ch, ch_col in zip(['Con', 'Ips'], ['C1', 'C0']):\n",
    "\n",
    "\n",
    "    for r, r_st in zip([0, 1], [':', '-']):\n",
    "        _g_reward = np.vstack(df_src[(df_src['Reward_last'] == r) & (df_src['Stay/Leave'] == 'stay') & (df_src['Action'] == ch)]['g_lp'])\n",
    "        x = np.arange(-LEN_BEFORE/15, LEN_AFTER/ 15, 1/15)\n",
    "        y = np.mean(_g_reward, axis = 0)\n",
    "        error = np.std(y, axis = 0) / np.sqrt(NS)\n",
    "\n",
    "        plt.plot(x, y, 'k', linestyle = r_st)\n",
    "        plt.ylim([-0.5, 2.0])\n",
    "\n",
    "        plt.fill_between(x, y-error, y+error, color = ch_col, alpha = 0.8)\n",
    "        plt.plot([], color = ch_col, linestyle = r_st, label = ch + ' (Rewarded' + str(r) + ')')\n",
    "plt.title('gCamp (timelocked to lever presentation) for all Leave Trials \\n Rewarded/Not-Rewarded last trial')\n",
    "\n",
    "plt.legend()\n"
   ]
  },
  {
   "cell_type": "code",
   "execution_count": null,
   "metadata": {},
   "outputs": [],
   "source": [
    "figure = plt.figure(figsize = (10, 5))\n",
    "for ch, ch_col in zip(['Con', 'Ips'], ['C1', 'C0']):\n",
    "\n",
    "\n",
    "    for r, r_st in zip([0, 1], [':', '-']):\n",
    "        _g_reward = np.vstack(df_DMS[(df_DMS['Reward_last'] == r) & (df_DMS['Stay/Leave'] == 'stay') & (df_DMS['Action'] == ch)]['g_choice'])\n",
    "        x = np.arange(-LEN_BEFORE/15, LEN_AFTER/ 15, 1/15)\n",
    "        y = np.mean(_g_reward, axis = 0)\n",
    "        error = np.std(y, axis = 0) / np.sqrt(NS)\n",
    "\n",
    "        plt.plot(x, y, 'k', linestyle = r_st)\n",
    "        plt.ylim([-0.5, 2.0])\n",
    "\n",
    "        plt.fill_between(x, y-error, y+error, color = ch_col, alpha = 0.8)\n",
    "        plt.plot([], color = ch_col, linestyle = r_st, label = ch + ' (Rewarded' + str(r) + ')')\n",
    "plt.title('gCamp (timelocked to lever press) for all Stay Trials \\n Rewarded/Not-Rewarded last trial')\n",
    "\n",
    "plt.legend()\n"
   ]
  },
  {
   "cell_type": "markdown",
   "metadata": {},
   "source": [
    "## use previous Q value difference to correlate with gcamp"
   ]
  },
  {
   "cell_type": "code",
   "execution_count": null,
   "metadata": {},
   "outputs": [],
   "source": [
    "import pickle\n",
    "extract = pickle.load( open( \"data/StanFit_int_pc.pickle\", \"rb\" ) )\n",
    "summary = pd.DataFrame.from_csv(\"data/summary_int_pc.csv\")\n",
    "\n",
    "# fncs for pulling out the actual alpha \n",
    "\n",
    "def inv_logit(arr):\n",
    "    '''Elementwise inverse logit (logistic) function.'''\n",
    "    return 1 / (1 + np.exp(-arr))\n",
    "\n",
    "def phi_approx(arr):\n",
    "    '''Elementwise fast approximation of the cumulative unit normal. \n",
    "    For details, see Bowling et al. (2009). \"A logistic approximation \n",
    "    to the cumulative normal distribution.\"'''\n",
    "    return inv_logit(0.07056 * arr ** 3 + 1.5976 * arr)\n",
    "\n",
    "# ## Save summary file.\n",
    "# summary = fit2.summary()\n",
    "# summary = pd.DataFrame(summary['summary'], columns=summary['summary_colnames'], index=summary['summary_rownames'])\n",
    "# summary.to_csv(os.path.join('data/', 'summary_int_pc.csv'))\n",
    "\n",
    "# # Save contents of StanFit.\n",
    "# extract = fit2.extract()\n",
    "# for k, v in standata.items(): extract[k] = v\n",
    "# with open(os.path.join('data/' 'StanFit_int_pc.pickle'), 'wb') as fn: cPickle.dump(extract, fn)\n",
    "\n",
    "\n"
   ]
  },
  {
   "cell_type": "code",
   "execution_count": null,
   "metadata": {},
   "outputs": [],
   "source": [
    "# to do: get Q_chosen, Q_unchosen, Q_ipsi, Q_contra, Q_dir_diff, Q_ch_diff \n",
    "%%time \n",
    "# get the predictions: \n",
    "N_samples = np.shape(extract['betas'])[0]\n",
    "\n",
    "\n",
    "Q_i = np.zeros((N_samples, NS, (NT + 1)), float)\n",
    "Q_c = np.zeros((N_samples, NS, (NT + 1)), float)\n",
    "delta = np.zeros((N_samples, NS, NT), float)\n",
    "Q_choice_saved = np.zeros((N_samples, NS, (NT + 1)), float)\n",
    "\n",
    "for s in np.arange(NS):\n",
    "\n",
    "    for t in np.arange(extract['NT_all'][s]):\n",
    "\n",
    "        r_i = extract['r'][s, t]\n",
    "        c_i = extract['c'][s, t]\n",
    "\n",
    "        if c_i == 0: # contra choice\n",
    "            Q_choice = Q_c; \n",
    "            Q_other = Q_i; \n",
    "        elif c_i == 1: # ipsa choice\n",
    "            Q_choice = Q_i; \n",
    "            Q_other = Q_c; \n",
    "            \n",
    "        delta[:, s, t] = r_i - Q_choice[:, s, t] \n",
    "        \n",
    "        Q_choice_saved[:, s, t] = np.copy(Q_choice[:, s, t])\n",
    "        # Q of the choice is updated, the other one is not. \n",
    "        Q_choice[:, s, t + 1] = Q_choice[:, s, t] + phi_approx(extract['alphas'][:,s]) * delta[:, s, t]\n",
    "        Q_other[:, s, t + 1] = Q_other[: ,s, t]\n",
    "        \n",
    "        \n",
    "\n",
    "\n",
    "\n",
    "\n",
    "_Q_i = np.mean(Q_i, 0)\n",
    "_Q_c = np.mean(Q_c, 0)\n",
    "Q_diff = (Q_c - Q_i)\n",
    "_Q_diff = np.mean(Q_diff, 0)\n",
    "_Q_choice = np.mean(Q_choice_saved, 0)"
   ]
  },
  {
   "cell_type": "markdown",
   "metadata": {},
   "source": [
    "# putting the Q values and gcamp together"
   ]
  },
  {
   "cell_type": "code",
   "execution_count": null,
   "metadata": {},
   "outputs": [],
   "source": [
    "# putting the Q values and the gcamp together\n",
    "\n",
    "_Q_diff_flat = np.zeros(sum(NT_all))\n",
    "_Q_choice_flat = np.zeros(sum(NT_all))\n",
    "for s in np.arange(NS):\n",
    "    if s < 11:\n",
    "        _Q_diff_flat[sum(NT_all[:s]) : sum(NT_all[:(s + 1)])] = (_Q_diff[s, :NT_all[s]])\n",
    "        _Q_choice_flat[sum(NT_all[:s]) : sum(NT_all[:(s + 1)])] = (_Q_choice[s, :NT_all[s]])\n",
    "\n",
    "    else: \n",
    "        _Q_diff_flat[sum(NT_all[:s]) : ] = (_Q_diff[s, :NT_all[s]])\n",
    "        _Q_choice_flat[sum(NT_all[:s]) : sum(NT_all[:(s + 1)])] = (_Q_choice[s, :NT_all[s]])\n",
    "\n",
    "    \n",
    "df_trials['Q_diff'] = _Q_diff_flat\n",
    "df_trials['Q_diff_last'] = df_trials['Q_diff'].groupby(df_trials['MouseID']).shift(1)\n",
    "df_trials['Q_bef_choice'] = _Q_choice_flat\n",
    "\n",
    "df_trials = df_trials.drop(['Q_diff'], axis = 1)\n",
    "\n",
    "\n",
    "\n",
    "## TO DO: RecrodLoc on df_gcamp is not the same anymore. I should just just take out RecordLoc < 3 for df_trials\n",
    "# then rename the Record Locs, then merge ith df_gcamp \n",
    "df_corr = pd.merge(df_DMS, df_trials[df_trials['RecordLoc'] == 1])\n",
    "df_corr = df_corr.dropna(subset=['Q_diff_last'])\n",
    "df_corr = df_corr.replace({'RecordLoc': {1:'DMS', 2:'NAC'}})\n",
    "\n",
    "# (df_trials['RecordLoc'] == 1)\n",
    "# df_DMS['Q_diff'] = df_DMS['Stay/Leave'].groupby(df_DMS['MouseID']).shift(-1)\n",
    "# df_DMS['Reward_last'] = df_DMS['Reward'].groupby(df_DMS['MouseID']).shift(1)"
   ]
  },
  {
   "cell_type": "code",
   "execution_count": null,
   "metadata": {},
   "outputs": [],
   "source": []
  },
  {
   "cell_type": "markdown",
   "metadata": {},
   "source": [
    "# plots"
   ]
  },
  {
   "cell_type": "code",
   "execution_count": null,
   "metadata": {},
   "outputs": [],
   "source": [
    "fig = plt.figure(figsize = (12, 4))\n",
    "df_corr['bQ_diff_last'] = pd.cut(df_corr['Q_diff_last'], 10)\n",
    "df_corr['max_np'] = [max(x) for x in df_corr['g_np']]\n",
    "df_corr['max_lp'] = [max(x) for x in df_corr['g_lp']]\n",
    "df_corr['max_r'] = [max(x) for x in df_corr['g_reward']]\n",
    "\n",
    "\n",
    "\n",
    "plt.plot([], color = 'g', label = 'NosePoke')\n",
    "plt.plot([], color = 'r', label = 'Lever Presentation')\n",
    "plt.plot([], color = 'b', label = 'Reward')\n",
    "plt.legend(title = 'Time locked to ')\n",
    "sns.barplot(data=df_corr, x = 'bQ_diff_last', y = 'max_np', ci = 68,  color = 'r', alpha = 0.5,  capsize = 0.2, errcolor = 'r')\n",
    "sns.barplot(data=df_corr, x = 'bQ_diff_last', y = 'max_lp', ci = 68,  color = 'g', alpha = 0.5, capsize = 0.2, errcolor = 'g')\n",
    "sns.barplot(data=df_corr, x = 'bQ_diff_last', y = 'max_r', ci = 68, color = 'b', alpha = 0.5, capsize = 0.2, errcolor = 'b')\n",
    "\n",
    "plt.xticks(rotation=45)\n",
    "plt.xlabel('Q_Contra - Q_Ipsi of Last Trial')\n",
    "plt.ylabel('Max GCaMP \\n(timelocked to various times)')\n",
    "# [df_DMS['Stay/Leave'] == 'stay']"
   ]
  },
  {
   "cell_type": "code",
   "execution_count": null,
   "metadata": {},
   "outputs": [],
   "source": [
    "fig = plt.figure(figsize = (12, 4))\n",
    "df_corr['bQ_bef_choice'] = pd.qcut(df_corr['Q_bef_choice'], 10)\n",
    "\n",
    "\n",
    "plt.plot([], color = 'g', label = 'NosePoke')\n",
    "plt.plot([], color = 'r', label = 'Lever Presentation')\n",
    "plt.plot([], color = 'b', label = 'Reward')\n",
    "plt.legend(title = 'Time locked to ')\n",
    "\n",
    "sns.barplot(data=df_corr, x = 'bQ_bef_choice', y = 'max_np', ci = 68,  color = 'g', alpha = 0.5, capsize = 0.2, errcolor = 'g')\n",
    "sns.barplot(data=df_corr, x = 'bQ_bef_choice', y = 'max_lp', ci = 68,  color = 'r', alpha = 0.5,  capsize = 0.2, errcolor = 'r')\n",
    "sns.barplot(data=df_corr, x = 'bQ_bef_choice', y = 'max_r', ci = 68, color = 'b', alpha = 0.5, capsize = 0.2, errcolor = 'b')\n",
    "plt.xticks(rotation=45)\n",
    "plt.xlabel('Q value before deciding (binned by quantiles)')\n",
    "plt.ylabel('Max GCaMP \\n(timelocked to various times)')\n",
    "# [df_DMS['Stay/Leave'] == 'stay']"
   ]
  },
  {
   "cell_type": "code",
   "execution_count": null,
   "metadata": {},
   "outputs": [],
   "source": [
    "fig = plt.figure(figsize = (12, 4))\n",
    "df_corr['avg_np'] = [np.mean(x[15:30], 0) for x in df_corr['g_np']]\n",
    "df_corr['avg_lp'] = [np.mean(x[15:30], 0) for x in df_corr['g_lp']]\n",
    "df_corr['avg_r'] = [np.mean(x[15:30], 0) for x in df_corr['g_reward']]\n",
    "\n",
    "plt.plot([], color = 'g', label = 'NosePoke')\n",
    "plt.plot([], color = 'r', label = 'Lever Presentation')\n",
    "plt.plot([], color = 'b', label = 'Reward')\n",
    "plt.legend(title = 'Time locked to ')\n",
    "\n",
    "sns.barplot(data=df_corr, x = 'bQ_bef_choice', y = 'avg_np', ci = 68,  color = 'g', alpha = 0.5, capsize = 0.2, errcolor = 'g')\n",
    "sns.barplot(data=df_corr, x = 'bQ_bef_choice', y = 'avg_lp', ci = 68,  color = 'r', alpha = 0.5,  capsize = 0.2, errcolor = 'r')\n",
    "sns.barplot(data=df_corr, x = 'bQ_bef_choice', y = 'avg_r', ci = 68, color = 'b', alpha = 0.5, capsize = 0.2, errcolor = 'b')\n",
    "plt.xticks(rotation=45)\n",
    "plt.xlabel('Q value before deciding (binned by quantiles)')\n",
    "plt.ylabel('Avg GCaMP from 0 to 1.0 s \\n(timelocked to various times)')\n",
    "# [df_DMS['Stay/Leave'] == 'stay']"
   ]
  },
  {
   "cell_type": "code",
   "execution_count": null,
   "metadata": {},
   "outputs": [],
   "source": [
    "fig = plt.figure(figsize = (12, 4))\n",
    "\n",
    "\n",
    "\n",
    "plt.plot([], color = 'g', label = 'NosePoke')\n",
    "plt.plot([], color = 'r', label = 'Lever Presentation')\n",
    "plt.plot([], color = 'b', label = 'Reward')\n",
    "\n",
    "plt.legend(title = 'Timelocked to')\n",
    "\n",
    "sns.barplot(data=df_corr, x = 'bQ_diff_last', y = 'avg_np', ci = 68,  color = 'r', alpha = 0.5,  capsize = 0.2, errcolor = 'r')\n",
    "sns.barplot(data=df_corr, x = 'bQ_diff_last', y = 'avg_lp', ci = 68,  color = 'g', alpha = 0.5, capsize = 0.2, errcolor = 'g')\n",
    "sns.barplot(data=df_corr, x = 'bQ_diff_last', y = 'avg_r', ci = 68, color = 'b', alpha = 0.5, capsize = 0.2, errcolor = 'b')\n",
    "plt.xticks(rotation=45)\n",
    "plt.xlabel('Q_Contra - Q_Ipsi of Last Trial')\n",
    "plt.ylabel('Avg GCaMP from 0 to 1.0 s \\n(timelocked to various times)')\n",
    "# [df_DMS['Stay/Leave'] == 'stay']"
   ]
  },
  {
   "cell_type": "code",
   "execution_count": null,
   "metadata": {},
   "outputs": [],
   "source": [
    "fig = plt.figure(figsize = (12, 4))\n",
    "\n",
    "sns.barplot(data=df_corr, x = 'bQ_diff_last', y = 'avg_lp', ci = 68, capsize = 0.2,  hue = 'Stay/Leave')\n",
    "plt.xticks(rotation=45)\n",
    "# plt.xlabel('Q_Contra - Q_Ipsi of Last Trial')\n",
    "# plt.ylabel('Avg GCaMP from 0 to 1.0 s \\n(timelocked to Reward)')"
   ]
  },
  {
   "cell_type": "code",
   "execution_count": null,
   "metadata": {},
   "outputs": [],
   "source": [
    "# sns.countplot(data = df_corr[df_corr['Q_diff_last'] < -0.8], x = 'MouseID', color = 'r', alpha = 0.5)\n",
    "# sns.countplot(data = df_corr[df_corr['Q_diff_last'] > 0.8], x = 'MouseID', color = 'b', alpha = 0.5)\n",
    "sns.countplot(data = df_corr[(df_corr['Q_diff_last'] > -0.2) & (df_corr['Q_diff_last'] < 0.2)], x = 'MouseID', color = 'g', alpha = 0.5)\n",
    "\n",
    "\n",
    "np.unique(df_corr[df_corr['Q_diff_last'] < -0.8].MouseID)"
   ]
  },
  {
   "cell_type": "code",
   "execution_count": null,
   "metadata": {},
   "outputs": [],
   "source": [
    "# if True:\n",
    "\n",
    "for timelocked, tl_name, palette in zip(['g_np', 'g_lp', 'g_reward'], ['NosePoke', 'Lever Presentation', 'Reward'], ['Greens', 'Reds','Blues']):\n",
    "    figure = plt.figure(figsize=(12, 4))\n",
    "\n",
    "    for act, line_type in zip(['Con', 'Ips'], ['-', ':']):\n",
    "        df_src = df_corr[df_corr['Action'] == act]\n",
    "\n",
    "\n",
    "        qlims = np.unique(df_src['bQ_diff_last'].dropna())\n",
    "        for q_i, col in zip(qlims, sns.color_palette(palette, len(qlims))):\n",
    "            x = np.arange(-LEN_BEFORE/15, LEN_AFTER/ 15, 1/15)\n",
    "            y = np.mean(df_src[(df_src['Q_diff_last'] > q_i.left) & (df_src['Q_diff_last'] <= q_i.right)][timelocked], 0)\n",
    "            error = np.std(y, axis = 0) / np.sqrt(NS)\n",
    "\n",
    "            plt.plot(x, y, 'k', linestyle = line_type)\n",
    "\n",
    "            plt.fill_between(x, y-error, y+error, color = col, alpha = 0.8,  label = q_i)\n",
    "            plt.title('GCaMP timelocked at ' + tl_name + '\\n with different Q values')\n",
    "        plt.legend(title = 'Q_Contra - Q_Ipsi of Last Trial', bbox_to_anchor=(1.05, 1), loc=2, borderaxespad=0.)\n",
    "\n"
   ]
  },
  {
   "cell_type": "code",
   "execution_count": null,
   "metadata": {},
   "outputs": [],
   "source": [
    "\n",
    "for timelocked, tl_name, palette in zip(['g_np', 'g_lp', 'g_reward'], ['NosePoke', 'Lever Presentation', 'Reward'], ['Greens', 'Reds','Blues']):\n",
    "    figure = plt.figure(figsize=(12, 4))\n",
    "\n",
    "    for act, line_type in zip(['Con', 'Ips'], ['-', ':']):\n",
    "        df_src = df_corr[df_corr['Action'] == act]\n",
    "\n",
    "        qlims = np.unique(df_src['bQ_bef_choice'].dropna())\n",
    "\n",
    "        for q_i, col in zip(qlims, sns.color_palette(palette, len(qlims))):\n",
    "            x = np.arange(-LEN_BEFORE/15, LEN_AFTER/ 15, 1/15)\n",
    "            y = np.mean(df_src[(df_src['Q_bef_choice'] > q_i.left) & (df_src['Q_bef_choice'] <= q_i.right)][timelocked], 0)\n",
    "            error = np.std(y, axis = 0) / np.sqrt(NS)\n",
    "\n",
    "            plt.plot(x, y, 'k', linestyle = line_type)\n",
    "\n",
    "            plt.fill_between(x, y-error, y+error, color = col, alpha = 0.8,  label = q_i)\n",
    "            plt.title('GCaMP timelocked at ' + tl_name + '\\n with different Q values')\n",
    "        plt.legend(title = 'Q values (before choice) intervals', bbox_to_anchor=(1.05, 1), loc=2, borderaxespad=0.)"
   ]
  },
  {
   "cell_type": "code",
   "execution_count": null,
   "metadata": {},
   "outputs": [],
   "source": [
    "sns.regplot(data = df_corr, y = 'Q_bef_choice', x = 'avg_lp') # , hue = 'Action') #, x_estimator = np.round)\n"
   ]
  }
 ],
 "metadata": {
  "kernelspec": {
   "display_name": "Python 3 (Biomath)",
   "language": "python",
   "name": "biomath"
  },
  "language_info": {
   "codemirror_mode": {
    "name": "ipython",
    "version": 3
   },
   "file_extension": ".py",
   "mimetype": "text/x-python",
   "name": "python",
   "nbconvert_exporter": "python",
   "pygments_lexer": "ipython3",
   "version": "3.5.4"
  },
  "toc": {
   "nav_menu": {},
   "number_sections": false,
   "sideBar": true,
   "skip_h1_title": false,
   "toc_cell": false,
   "toc_position": {},
   "toc_section_display": "block",
   "toc_window_display": false
  }
 },
 "nbformat": 4,
 "nbformat_minor": 2
}
