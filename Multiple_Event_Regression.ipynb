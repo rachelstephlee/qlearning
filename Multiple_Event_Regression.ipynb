{
 "cells": [
  {
   "cell_type": "markdown",
   "metadata": {},
   "source": [
    "This notebook will now have \n",
    "\n",
    "1. Regression of Behavior + GCamp \n",
    "\n",
    "\n"
   ]
  },
  {
   "cell_type": "code",
   "execution_count": null,
   "metadata": {},
   "outputs": [],
   "source": [
    "import numpy as np\n",
    "import pandas as pd\n",
    "import scipy\n",
    "import _pickle as cPickle\n",
    "\n",
    "\n",
    "import matplotlib\n",
    "import matplotlib.pyplot as plt\n",
    "from matplotlib.colors import ListedColormap\n",
    "import matplotlib.ticker as ticker\n",
    "import matplotlib.gridspec as gridspec\n",
    "\n",
    "import statsmodels.api as sm \n",
    "import statsmodels.formula.api as smf\n",
    "\n",
    "\n",
    "\n",
    "import seaborn as sns\n",
    "import os\n",
    "\n",
    "import rpy2.interactive as r\n",
    "import datetime\n",
    "\n",
    "# to render plots with white background\n",
    "import seaborn as sns\n",
    "sns.set_style('white')\n",
    "sns.set_context('notebook', font_scale=1.75)\n",
    "\n",
    "%load_ext jupyternotify\n"
   ]
  },
  {
   "cell_type": "code",
   "execution_count": null,
   "metadata": {},
   "outputs": [],
   "source": [
    "%load_ext rpy2.ipython\n",
    "%R library(rms)"
   ]
  },
  {
   "cell_type": "code",
   "execution_count": null,
   "metadata": {},
   "outputs": [],
   "source": [
    "%%R -o f\n",
    "test_data <- data.frame(time = c(1,1,1,2,2,2,3,3,3,4,4,4),\n",
    "status = rep(c(1,0,2),4),\n",
    "n = c(12,3,2,6,2,4,2,0,2,3,3,5))\n",
    "# # fit a Kaplan-Meier and plot it\n",
    "f <- ols(time ~ ., test_data)"
   ]
  },
  {
   "cell_type": "markdown",
   "metadata": {},
   "source": [
    "# multiple event regression"
   ]
  },
  {
   "cell_type": "code",
   "execution_count": 1,
   "metadata": {},
   "outputs": [
    {
     "ename": "NameError",
     "evalue": "name 'pd' is not defined",
     "output_type": "error",
     "traceback": [
      "\u001b[0;31m---------------------------------------------------------------------------\u001b[0m",
      "\u001b[0;31mNameError\u001b[0m                                 Traceback (most recent call last)",
      "\u001b[0;32m<ipython-input-1-b11c50bd80cf>\u001b[0m in \u001b[0;36m<module>\u001b[0;34m()\u001b[0m\n\u001b[0;32m----> 1\u001b[0;31m \u001b[0mdf_corr_all\u001b[0m \u001b[0;34m=\u001b[0m \u001b[0mpd\u001b[0m\u001b[0;34m.\u001b[0m\u001b[0mread_csv\u001b[0m\u001b[0;34m(\u001b[0m\u001b[0;34m\"data/int_pc_qvals_gcamp_dms.csv\"\u001b[0m\u001b[0;34m,\u001b[0m \u001b[0mindex_col\u001b[0m \u001b[0;34m=\u001b[0m \u001b[0;36m0\u001b[0m\u001b[0;34m)\u001b[0m\u001b[0;34m\u001b[0m\u001b[0m\n\u001b[0m\u001b[1;32m      2\u001b[0m \u001b[0;34m\u001b[0m\u001b[0m\n\u001b[1;32m      3\u001b[0m \u001b[0;31m# first pull out the original gcamp. start with one mice (mice 9) for simplicity\u001b[0m\u001b[0;34m\u001b[0m\u001b[0;34m\u001b[0m\u001b[0m\n\u001b[1;32m      4\u001b[0m data = pd.read_csv('./data/rachel_csv_6_19.csv', names = ['gcamp', 'TrialStart', 'NosePokeEnter', 'NosePokeExit', 'LeverPresentation',\n\u001b[1;32m      5\u001b[0m                                                        \u001b[0;34m'IpsLeverPress'\u001b[0m\u001b[0;34m,\u001b[0m \u001b[0;34m'ConLeverPress'\u001b[0m\u001b[0;34m,\u001b[0m \u001b[0;34m'CSplus'\u001b[0m\u001b[0;34m,\u001b[0m \u001b[0;34m'CSneg'\u001b[0m\u001b[0;34m,\u001b[0m \u001b[0;34m'RewardEnter'\u001b[0m\u001b[0;34m,\u001b[0m\u001b[0;34m\u001b[0m\u001b[0m\n",
      "\u001b[0;31mNameError\u001b[0m: name 'pd' is not defined"
     ]
    }
   ],
   "source": [
    "df_corr_all = pd.read_csv(\"data/int_pc_qvals_gcamp_dms.csv\", index_col = 0)\n",
    "\n",
    "# first pull out the original gcamp. start with one mice (mice 9) for simplicity\n",
    "data = pd.read_csv('./data/rachel_csv_6_19.csv', names = ['gcamp', 'TrialStart', 'NosePokeEnter', 'NosePokeExit', 'LeverPresentation',\n",
    "                                                       'IpsLeverPress', 'ConLeverPress', 'CSplus', 'CSneg', 'RewardEnter',\n",
    "                                                       'RewardExit', 'MouseID', 'RecordLoc', 'Session', 'HighProb'])\n",
    "#         1 = VTA/SNc -> Dorsomedial Striatum\n",
    "#         2 = VTA/SNc -> Nucleus Accumbens\n",
    "#         3 = VTA/ SNc -> Dorsolateral Striatum (forgot i had these)\n",
    "#         4 = VTA/ SNc -> Dorsomedial Striatum Cell Bodies\n",
    "#         5 = GFP controls (DMS and NAc together)\n",
    "data_g = pd.read_csv('./data/dan_table.csv')\n",
    "\n",
    "data['gcamp'] = data_g['gcamp']\n",
    "\n",
    "data['LeverPress'] = data['IpsLeverPress'] + data['ConLeverPress'] # add Lever Press in general \n",
    "\n",
    "# for gcamp (dt = dt of gcamp recordings)\n",
    "dt = 15\n",
    "LEN_BEFORE = dt\n",
    "LEN_AFTER = dt * 2\n"
   ]
  },
  {
   "cell_type": "code",
   "execution_count": null,
   "metadata": {},
   "outputs": [],
   "source": [
    "# normalize\n",
    "\n",
    "def normalize(x, mu, std):\n",
    "    return (x - mu) / std\n",
    "\n",
    "\n",
    "# normalizes values (gcamp or q values across mice)\n",
    "def normalize_across_mice(df_src, values):\n",
    "\n",
    "    for mouse_id in np.unique(df_src['MouseID']):\n",
    "        mice_gcamp = df_src.loc[df_src['MouseID'] == mouse_id, values].values\n",
    "        mice_mu = (np.mean(mice_gcamp))\n",
    "        mice_std = (np.std(mice_gcamp))\n",
    "\n",
    "        df_src.loc[df_src['MouseID'] == mouse_id, values] = normalize(mice_gcamp, mice_mu, mice_std)\n",
    "    return df_src\n",
    "\n"
   ]
  },
  {
   "cell_type": "code",
   "execution_count": null,
   "metadata": {},
   "outputs": [],
   "source": [
    "from rpy2.robjects import IntVector, Formula\n",
    "from rpy2.robjects.packages import importr\n",
    "from rpy2.robjects import pandas2ri\n",
    "pandas2ri.activate()\n",
    "from rpy2 import robjects\n",
    "\n",
    "base = importr('base')\n",
    "rms = importr('rms')\n",
    "stats = importr('stats')\n",
    "\n",
    "import rpy2.robjects.numpy2ri\n",
    "rpy2.robjects.numpy2ri.activate()"
   ]
  },
  {
   "cell_type": "code",
   "execution_count": 7,
   "metadata": {},
   "outputs": [
    {
     "name": "stderr",
     "output_type": "stream",
     "text": [
      "/anaconda3/envs/rpy/lib/python3.6/site-packages/pandas/core/indexing.py:543: SettingWithCopyWarning: \n",
      "A value is trying to be set on a copy of a slice from a DataFrame.\n",
      "Try using .loc[row_indexer,col_indexer] = value instead\n",
      "\n",
      "See the caveats in the documentation: http://pandas.pydata.org/pandas-docs/stable/indexing.html#indexing-view-versus-copy\n",
      "  self.obj[item] = s\n"
     ]
    }
   ],
   "source": [
    "data_src = normalize_across_mice(data[data[\"RecordLoc\"] == 1], 'gcamp').reset_index()\n",
    "\n",
    "recordloc = \"DMS\"\n",
    "df_trial_src = normalize_across_mice(df_corr_all[df_corr_all['RecordLoc'] == recordloc].reset_index(), 'Q_ch_diff')\n",
    "\n"
   ]
  },
  {
   "cell_type": "code",
   "execution_count": 8,
   "metadata": {},
   "outputs": [],
   "source": [
    "# building design matrix for different timelocks\n",
    "\n",
    "event_names =  ['NosePokeEnter' , 'LeverPresentation', 'LeverPress']\n",
    "design_matrix = np.zeros((len(data_src), len(event_names) * (LEN_BEFORE + LEN_AFTER)))\n",
    "for event_i, event in enumerate(event_names):\n",
    "    # shift the event indicator column accordingly for each event. \n",
    "    for shift_i, shift in enumerate(np.arange(-LEN_BEFORE,LEN_AFTER)):\n",
    "        design_matrix[:, (event_i * (LEN_BEFORE + LEN_AFTER)) + shift_i] = data_src[event].shift(shift).fillna(0).values\n",
    "\n"
   ]
  },
  {
   "cell_type": "markdown",
   "metadata": {},
   "source": [
    "# con/ips/reward previous"
   ]
  },
  {
   "cell_type": "code",
   "execution_count": 88,
   "metadata": {},
   "outputs": [
    {
     "name": "stdout",
     "output_type": "stream",
     "text": [
      "starting cond: 0\n",
      "starting cond: 1\n",
      "starting cond: 2\n",
      "starting cond: 3\n",
      "CPU times: user 17.1 s, sys: 28.6 s, total: 45.7 s\n",
      "Wall time: 42.7 s\n"
     ]
    }
   ],
   "source": [
    "%%time\n",
    "# buliding design matrix for different conditions\n",
    "\n",
    "\n",
    "full_design_matrix = np.zeros((np.size(design_matrix, 0), np.size(design_matrix, 1) * 4))\n",
    "\n",
    "# adding dummy 'trial_starts' for fencepost problem for final trial \n",
    "trial_starts = np.append(np.where(data_src['TrialStart'] == 1)[0], len(data_src))\n",
    "\n",
    "for cond_i, (action, reward_last) in enumerate([('Con', 0.0), ('Con', 1.0), ('Ips', 0.0), ('Ips', 1.0)]):\n",
    "    print(\"starting cond:\", cond_i)\n",
    "    cond = df_trial_src.index[(df_trial_src['Action'] == action) & (df_trial_src['Reward_last'] == reward_last)].values\n",
    "    trial_starts_cond = trial_starts[cond]\n",
    "    trial_ends_cond = trial_starts[cond + 1]\n",
    "    \n",
    "    cond_design_mask = np.zeros(len(data_src), dtype = bool)\n",
    "    for (trial_starts_i, trial_ends_i) in zip(trial_starts_cond, trial_ends_cond):\n",
    "        cond_design_mask[trial_starts_i:trial_ends_i] = True\n",
    "    cond_design_matrix =  np.copy(design_matrix)\n",
    "    cond_design_matrix[~cond_design_mask,:] = 0\n",
    "    full_design_matrix[:, cond_i * np.size(design_matrix, 1) : (np.size(design_matrix, 1) * cond_i + np.size(design_matrix, 1))] = cond_design_matrix\n",
    "    \n",
    "        \n"
   ]
  },
  {
   "cell_type": "code",
   "execution_count": 89,
   "metadata": {},
   "outputs": [
    {
     "name": "stdout",
     "output_type": "stream",
     "text": [
      "CPU times: user 6.55 s, sys: 14 s, total: 20.6 s\n",
      "Wall time: 25.6 s\n"
     ]
    }
   ],
   "source": [
    "%%time\n",
    "# add intercept term\n",
    "A = np.hstack((np.ones(len(data_src))[:, None], full_design_matrix))\n",
    "df_reg = pd.DataFrame(full_design_matrix) # fit automatically adds an intercept here "
   ]
  },
  {
   "cell_type": "code",
   "execution_count": 90,
   "metadata": {},
   "outputs": [],
   "source": [
    "df_reg['gcamp'] = data_src['gcamp']\n",
    "# df_reg['mouseInfo'] = data_src['MouseID'] # can use cluster on a vector "
   ]
  },
  {
   "cell_type": "code",
   "execution_count": null,
   "metadata": {},
   "outputs": [],
   "source": [
    "%%time\n",
    "print('performing least squares')\n",
    "\n",
    "# perform least squares\n",
    "w_hat = np.linalg.inv(A.T @ A) @ A.T @ data_src['gcamp'].values"
   ]
  },
  {
   "cell_type": "code",
   "execution_count": 92,
   "metadata": {},
   "outputs": [
    {
     "name": "stdout",
     "output_type": "stream",
     "text": [
      "2019-01-15 17:49:04.124245\n",
      "2019-01-15 18:03:07.280759\n"
     ]
    },
    {
     "data": {
      "application/javascript": [
       "$(document).ready(\n",
       "    function() {\n",
       "        function appendUniqueDiv(){\n",
       "            // append a div with our uuid so we can check that it's already\n",
       "            // been sent and avoid duplicates on page reload\n",
       "            var notifiedDiv = document.createElement(\"div\")\n",
       "            notifiedDiv.id = \"8485cd32-20e5-4b0a-826b-55eb1cd1923a\"\n",
       "            element.append(notifiedDiv)\n",
       "        }\n",
       "\n",
       "        // only send notifications if the pageload is complete; this will\n",
       "        // help stop extra notifications when a saved notebook is loaded,\n",
       "        // which during testing gives us state \"interactive\", not \"complete\"\n",
       "        if (document.readyState === 'complete') {\n",
       "            // check for the div that signifies that the notification\n",
       "            // was already sent\n",
       "            if (document.getElementById(\"8485cd32-20e5-4b0a-826b-55eb1cd1923a\") === null) {\n",
       "                var notificationPayload = {\"requireInteraction\": false, \"icon\": \"/static/base/images/favicon.ico\", \"body\": \"Cell execution has finished!\"};\n",
       "                if (Notification.permission !== 'denied') {\n",
       "                    if (Notification.permission !== 'granted') { \n",
       "                        Notification.requestPermission(function (permission) {\n",
       "                            if(!('permission' in Notification)) {\n",
       "                                Notification.permission = permission\n",
       "                            }\n",
       "                        })\n",
       "                    }\n",
       "                    if (Notification.permission === 'granted') {\n",
       "                    var notification = new Notification(\"Jupyter Notebook\", notificationPayload)\n",
       "                    appendUniqueDiv()\n",
       "                    notification.onclick = function () {\n",
       "                        window.focus();\n",
       "                        this.close();\n",
       "                        };\n",
       "                    } \n",
       "                }     \n",
       "            }\n",
       "        }\n",
       "    }\n",
       ")\n"
      ],
      "text/plain": [
       "<IPython.core.display.Javascript object>"
      ]
     },
     "metadata": {},
     "output_type": "display_data"
    }
   ],
   "source": [
    "%%notify\n",
    "print(datetime.datetime.now())\n",
    "rdf_reg = pandas2ri.py2ri(df_reg)\n",
    "print(datetime.datetime.now())\n",
    "\n",
    "# took about 15 minutes for DMS "
   ]
  },
  {
   "cell_type": "code",
   "execution_count": 93,
   "metadata": {},
   "outputs": [
    {
     "name": "stdout",
     "output_type": "stream",
     "text": [
      "2019-01-15 18:03:10.709603\n",
      "2019-01-15 18:16:07.431538\n"
     ]
    },
    {
     "data": {
      "application/javascript": [
       "$(document).ready(\n",
       "    function() {\n",
       "        function appendUniqueDiv(){\n",
       "            // append a div with our uuid so we can check that it's already\n",
       "            // been sent and avoid duplicates on page reload\n",
       "            var notifiedDiv = document.createElement(\"div\")\n",
       "            notifiedDiv.id = \"bf65ad27-ac35-4d3d-b97b-cbe263d609db\"\n",
       "            element.append(notifiedDiv)\n",
       "        }\n",
       "\n",
       "        // only send notifications if the pageload is complete; this will\n",
       "        // help stop extra notifications when a saved notebook is loaded,\n",
       "        // which during testing gives us state \"interactive\", not \"complete\"\n",
       "        if (document.readyState === 'complete') {\n",
       "            // check for the div that signifies that the notification\n",
       "            // was already sent\n",
       "            if (document.getElementById(\"bf65ad27-ac35-4d3d-b97b-cbe263d609db\") === null) {\n",
       "                var notificationPayload = {\"requireInteraction\": false, \"icon\": \"/static/base/images/favicon.ico\", \"body\": \"Cell execution has finished!\"};\n",
       "                if (Notification.permission !== 'denied') {\n",
       "                    if (Notification.permission !== 'granted') { \n",
       "                        Notification.requestPermission(function (permission) {\n",
       "                            if(!('permission' in Notification)) {\n",
       "                                Notification.permission = permission\n",
       "                            }\n",
       "                        })\n",
       "                    }\n",
       "                    if (Notification.permission === 'granted') {\n",
       "                    var notification = new Notification(\"Jupyter Notebook\", notificationPayload)\n",
       "                    appendUniqueDiv()\n",
       "                    notification.onclick = function () {\n",
       "                        window.focus();\n",
       "                        this.close();\n",
       "                        };\n",
       "                    } \n",
       "                }     \n",
       "            }\n",
       "        }\n",
       "    }\n",
       ")\n"
      ],
      "text/plain": [
       "<IPython.core.display.Javascript object>"
      ]
     },
     "metadata": {},
     "output_type": "display_data"
    }
   ],
   "source": [
    "%%notify\n",
    "print(datetime.datetime.now())\n",
    "\n",
    "\n",
    "fmla = Formula('gcamp ~ .')\n",
    "\n",
    "\n",
    "fit = rms.ols(fmla, rdf_reg, x = True)\n",
    "print(datetime.datetime.now())\n",
    "\n",
    "# took 7 minutes for DMS_CB \n",
    "# took around 13 minutes for DMS "
   ]
  },
  {
   "cell_type": "code",
   "execution_count": 95,
   "metadata": {},
   "outputs": [
    {
     "data": {
      "text/plain": [
       "<matplotlib.legend.Legend at 0x1c20a46b00>"
      ]
     },
     "execution_count": 95,
     "metadata": {},
     "output_type": "execute_result"
    },
    {
     "data": {
      "image/png": "[encoded data removed]",
      "text/plain": [
       "<Figure size 432x288 with 1 Axes>"
      ]
     },
     "metadata": {
      "needs_background": "light"
     },
     "output_type": "display_data"
    }
   ],
   "source": [
    "w_hat = fit[0]\n",
    "_w_hat = w_hat[1:] # take out intercept\n",
    "\n",
    "nosepoke_i = np.arange(0, len(_w_hat), 45 * 3)\n",
    "leverpress_i = np.arange(45, len(_w_hat), 45 * 3)\n",
    "choice_i = np.arange(90, len(_w_hat), 45 * 3)\n",
    "\n",
    "event_i = leverpress_i \n",
    "for cond, cond_name in zip(event_i, ['Con-0.0', 'Con-1.0', 'Ips-0.0', 'Ips-1.0']):\n",
    "    plt.plot(_w_hat[cond:(cond + 45)], label = cond_name)\n",
    "plt.legend()"
   ]
  },
  {
   "cell_type": "code",
   "execution_count": 94,
   "metadata": {},
   "outputs": [
    {
     "name": "stdout",
     "output_type": "stream",
     "text": [
      "2019-01-15 18:16:08.409580\n",
      "2019-01-15 18:18:44.530928\n"
     ]
    },
    {
     "data": {
      "application/javascript": [
       "$(document).ready(\n",
       "    function() {\n",
       "        function appendUniqueDiv(){\n",
       "            // append a div with our uuid so we can check that it's already\n",
       "            // been sent and avoid duplicates on page reload\n",
       "            var notifiedDiv = document.createElement(\"div\")\n",
       "            notifiedDiv.id = \"dbc88340-3d72-4131-b0a1-24e60dec61ba\"\n",
       "            element.append(notifiedDiv)\n",
       "        }\n",
       "\n",
       "        // only send notifications if the pageload is complete; this will\n",
       "        // help stop extra notifications when a saved notebook is loaded,\n",
       "        // which during testing gives us state \"interactive\", not \"complete\"\n",
       "        if (document.readyState === 'complete') {\n",
       "            // check for the div that signifies that the notification\n",
       "            // was already sent\n",
       "            if (document.getElementById(\"dbc88340-3d72-4131-b0a1-24e60dec61ba\") === null) {\n",
       "                var notificationPayload = {\"requireInteraction\": false, \"icon\": \"/static/base/images/favicon.ico\", \"body\": \"Cell execution has finished!\"};\n",
       "                if (Notification.permission !== 'denied') {\n",
       "                    if (Notification.permission !== 'granted') { \n",
       "                        Notification.requestPermission(function (permission) {\n",
       "                            if(!('permission' in Notification)) {\n",
       "                                Notification.permission = permission\n",
       "                            }\n",
       "                        })\n",
       "                    }\n",
       "                    if (Notification.permission === 'granted') {\n",
       "                    var notification = new Notification(\"Jupyter Notebook\", notificationPayload)\n",
       "                    appendUniqueDiv()\n",
       "                    notification.onclick = function () {\n",
       "                        window.focus();\n",
       "                        this.close();\n",
       "                        };\n",
       "                    } \n",
       "                }     \n",
       "            }\n",
       "        }\n",
       "    }\n",
       ")\n"
      ],
      "text/plain": [
       "<IPython.core.display.Javascript object>"
      ]
     },
     "metadata": {},
     "output_type": "display_data"
    }
   ],
   "source": [
    "%%notify\n",
    "print(datetime.datetime.now())\n",
    "\n",
    "fit_adjusted2 = rms.robcov(fit, cluster=data_src['MouseID'].values) #, method = 'efron')\n",
    "# took about 3 minutes for CB, DMS \n",
    "\n",
    "print(datetime.datetime.now())"
   ]
  },
  {
   "cell_type": "code",
   "execution_count": 69,
   "metadata": {},
   "outputs": [
    {
     "data": {
      "text/plain": [
       "array([1, 1, 1, ..., 7, 7, 7])"
      ]
     },
     "execution_count": 69,
     "metadata": {},
     "output_type": "execute_result"
    }
   ],
   "source": [
    "data_src['MouseID'].values"
   ]
  },
  {
   "cell_type": "code",
   "execution_count": null,
   "metadata": {},
   "outputs": [],
   "source": [
    "fit"
   ]
  },
  {
   "cell_type": "code",
   "execution_count": 15,
   "metadata": {},
   "outputs": [
    {
     "name": "stdout",
     "output_type": "stream",
     "text": [
      " [1] \"coefficients\"      \"residuals\"         \"effects\"          \n",
      " [4] \"rank\"              \"fitted.values\"     \"assign\"           \n",
      " [7] \"qr\"                \"df.residual\"       \"var\"              \n",
      "[10] \"stats\"             \"linear.predictors\" \"x\"                \n",
      "[13] \"call\"              \"terms\"             \"Design\"           \n",
      "[16] \"non.slopes\"        \"na.action\"         \"scale.pred\"       \n",
      "[19] \"fail\"              \"sformula\"          \"orig.var\"         \n",
      "[22] \"clusterInfo\"      \n",
      "\n"
     ]
    }
   ],
   "source": [
    "print(fit_adjusted2.names)"
   ]
  },
  {
   "cell_type": "code",
   "execution_count": 96,
   "metadata": {},
   "outputs": [],
   "source": [
    "coef = np.asarray(fit_adjusted2[0])\n",
    "var = np.asarray(fit_adjusted2[8])"
   ]
  },
  {
   "cell_type": "code",
   "execution_count": 98,
   "metadata": {},
   "outputs": [],
   "source": [
    "# pull the variables to put them in a dataframe \n",
    "varnames = list(np.repeat('NosePoke', 45))\n",
    "varnames.extend(np.repeat('LeverPrez', 45))\n",
    "varnames.extend(np.repeat('Choice', 45))\n",
    "varnames = np.tile(varnames, 4)\n",
    "varnames = np.insert(varnames, 0, 'Intercept')\n",
    "\n",
    "time = list(np.tile(np.arange(-1, 2, 1/15), 3))\n",
    "time = np.tile(time, 4)\n",
    "time = np.insert(time, 0, -1)\n",
    "\n",
    "cond = ['Intercept']\n",
    "cond.extend(np.repeat(['Con-0.0', 'Con-1.0', 'Ips-0.0', 'Ips-1.0'], 45 * 3))"
   ]
  },
  {
   "cell_type": "code",
   "execution_count": 99,
   "metadata": {},
   "outputs": [],
   "source": [
    "df_fit = pd.DataFrame(coef, columns = ['Estimate'])\n",
    "df_fit['StdError'] = np.sqrt(np.diag(var))\n",
    "df_fit['Variable'] = varnames\n",
    "df_fit['Time'] = time\n",
    "df_fit['Cond'] = cond"
   ]
  },
  {
   "cell_type": "code",
   "execution_count": 101,
   "metadata": {},
   "outputs": [],
   "source": [
    "df_fit.to_csv(\"data/\" + recordloc + \"/multiple_event_reg_gcamp.csv\")"
   ]
  },
  {
   "cell_type": "code",
   "execution_count": null,
   "metadata": {},
   "outputs": [],
   "source": [
    "w_hat = np.asarray(fit_adjusted[0])\n",
    "variance = np.asarray(fit_adjusted[])\n",
    "\n",
    "import pickle\n",
    "pickle.dump( w_hat, open( \"data/\" + recordloc + \"/multiple_event_reg.p\", \"wb\" ) )\n"
   ]
  },
  {
   "cell_type": "markdown",
   "metadata": {},
   "source": [
    "# gcamp regression"
   ]
  },
  {
   "cell_type": "code",
   "execution_count": 9,
   "metadata": {},
   "outputs": [
    {
     "name": "stdout",
     "output_type": "stream",
     "text": [
      "2019-01-15 20:23:14.328191\n",
      "2019-01-15 20:23:55.731669\n"
     ]
    },
    {
     "data": {
      "application/javascript": [
       "$(document).ready(\n",
       "    function() {\n",
       "        function appendUniqueDiv(){\n",
       "            // append a div with our uuid so we can check that it's already\n",
       "            // been sent and avoid duplicates on page reload\n",
       "            var notifiedDiv = document.createElement(\"div\")\n",
       "            notifiedDiv.id = \"40ebfde8-bd81-4747-9068-1fea6ba1c178\"\n",
       "            element.append(notifiedDiv)\n",
       "        }\n",
       "\n",
       "        // only send notifications if the pageload is complete; this will\n",
       "        // help stop extra notifications when a saved notebook is loaded,\n",
       "        // which during testing gives us state \"interactive\", not \"complete\"\n",
       "        if (document.readyState === 'complete') {\n",
       "            // check for the div that signifies that the notification\n",
       "            // was already sent\n",
       "            if (document.getElementById(\"40ebfde8-bd81-4747-9068-1fea6ba1c178\") === null) {\n",
       "                var notificationPayload = {\"requireInteraction\": false, \"icon\": \"/static/base/images/favicon.ico\", \"body\": \"Cell execution has finished!\"};\n",
       "                if (Notification.permission !== 'denied') {\n",
       "                    if (Notification.permission !== 'granted') { \n",
       "                        Notification.requestPermission(function (permission) {\n",
       "                            if(!('permission' in Notification)) {\n",
       "                                Notification.permission = permission\n",
       "                            }\n",
       "                        })\n",
       "                    }\n",
       "                    if (Notification.permission === 'granted') {\n",
       "                    var notification = new Notification(\"Jupyter Notebook\", notificationPayload)\n",
       "                    appendUniqueDiv()\n",
       "                    notification.onclick = function () {\n",
       "                        window.focus();\n",
       "                        this.close();\n",
       "                        };\n",
       "                    } \n",
       "                }     \n",
       "            }\n",
       "        }\n",
       "    }\n",
       ")\n"
      ],
      "text/plain": [
       "<IPython.core.display.Javascript object>"
      ]
     },
     "metadata": {},
     "output_type": "display_data"
    }
   ],
   "source": [
    "%%notify\n",
    "print(datetime.datetime.now())\n",
    "Q_vals = 'Q_ch_diff'\n",
    "# create design matrix with q vals\n",
    "\n",
    "full_design_matrix = np.zeros((np.size(design_matrix, 0), np.size(design_matrix, 1) * 3))\n",
    "trial_starts = np.append(np.where(data_src['TrialStart'] == 1)[0], len(data_src))\n",
    "\n",
    "# q values, con, con * q values, ips, ips * q values \n",
    "\n",
    "# q values first \n",
    "q_val_cond = df_trial_src[Q_vals].values\n",
    "trial_len = trial_starts[1:] - trial_starts[:-1]    \n",
    "\n",
    "# have to add 0's to before the trial starts \n",
    "q_val_cond = np.hstack([np.zeros(trial_starts[0]), np.repeat(q_val_cond, trial_len)]) \n",
    "\n",
    "\n",
    "\n",
    "# block 1: Contra = 1, Ipsi = 0\n",
    "\n",
    "cond = df_trial_src.index[(df_trial_src['Action'] == \"Con\")].values\n",
    "trial_starts_cond = trial_starts[cond]\n",
    "trial_ends_cond = trial_starts[cond + 1]\n",
    "\n",
    "cond_design_mask = np.zeros(len(data_src), dtype = bool)\n",
    "for (trial_starts_i, trial_ends_i) in zip(trial_starts_cond, trial_ends_cond):\n",
    "    cond_design_mask[trial_starts_i:trial_ends_i] = True\n",
    "cond_design_matrix =  np.copy(design_matrix)\n",
    "cond_design_matrix[~cond_design_mask,:] = 0 # 0 out all ipsi trials \n",
    "\n",
    "full_design_matrix[:,  : np.size(design_matrix, 1)] = cond_design_matrix\n",
    "\n",
    "# block 2: Q values * design_matrix \n",
    "\n",
    "full_design_matrix[:, np.size(design_matrix, 1): np.size(design_matrix, 1) * 2] = design_matrix * q_val_cond[:, None]\n",
    "\n",
    "# block 3: Q values * cond_design_matrix \n",
    "\n",
    "full_design_matrix[:, np.size(design_matrix, 1) * 2: np.size(design_matrix, 1) * 3] = cond_design_matrix * q_val_cond[:, None]\n",
    "\n",
    "\n",
    "# add intercept term\n",
    "A = np.hstack((design_matrix, full_design_matrix))\n",
    "print(datetime.datetime.now())\n",
    "\n",
    "# takes 30 seconds for DMS_CB "
   ]
  },
  {
   "cell_type": "code",
   "execution_count": 10,
   "metadata": {},
   "outputs": [],
   "source": [
    "df_reg = pd.DataFrame(A) \n",
    "df_reg['gcamp'] = data_src['gcamp']"
   ]
  },
  {
   "cell_type": "code",
   "execution_count": 11,
   "metadata": {},
   "outputs": [
    {
     "name": "stdout",
     "output_type": "stream",
     "text": [
      "2019-01-15 20:23:56.153880\n",
      "2019-01-15 20:41:07.733835\n"
     ]
    },
    {
     "data": {
      "application/javascript": [
       "$(document).ready(\n",
       "    function() {\n",
       "        function appendUniqueDiv(){\n",
       "            // append a div with our uuid so we can check that it's already\n",
       "            // been sent and avoid duplicates on page reload\n",
       "            var notifiedDiv = document.createElement(\"div\")\n",
       "            notifiedDiv.id = \"b0a31916-f3ef-437d-92ab-008f36f885c6\"\n",
       "            element.append(notifiedDiv)\n",
       "        }\n",
       "\n",
       "        // only send notifications if the pageload is complete; this will\n",
       "        // help stop extra notifications when a saved notebook is loaded,\n",
       "        // which during testing gives us state \"interactive\", not \"complete\"\n",
       "        if (document.readyState === 'complete') {\n",
       "            // check for the div that signifies that the notification\n",
       "            // was already sent\n",
       "            if (document.getElementById(\"b0a31916-f3ef-437d-92ab-008f36f885c6\") === null) {\n",
       "                var notificationPayload = {\"requireInteraction\": false, \"icon\": \"/static/base/images/favicon.ico\", \"body\": \"Cell execution has finished!\"};\n",
       "                if (Notification.permission !== 'denied') {\n",
       "                    if (Notification.permission !== 'granted') { \n",
       "                        Notification.requestPermission(function (permission) {\n",
       "                            if(!('permission' in Notification)) {\n",
       "                                Notification.permission = permission\n",
       "                            }\n",
       "                        })\n",
       "                    }\n",
       "                    if (Notification.permission === 'granted') {\n",
       "                    var notification = new Notification(\"Jupyter Notebook\", notificationPayload)\n",
       "                    appendUniqueDiv()\n",
       "                    notification.onclick = function () {\n",
       "                        window.focus();\n",
       "                        this.close();\n",
       "                        };\n",
       "                    } \n",
       "                }     \n",
       "            }\n",
       "        }\n",
       "    }\n",
       ")\n"
      ],
      "text/plain": [
       "<IPython.core.display.Javascript object>"
      ]
     },
     "metadata": {},
     "output_type": "display_data"
    }
   ],
   "source": [
    "%%notify\n",
    "print(datetime.datetime.now())\n",
    "rdf_reg = pandas2ri.py2ri(df_reg)\n",
    "print(datetime.datetime.now())\n",
    "\n",
    "# takes about 9 minutes for CB"
   ]
  },
  {
   "cell_type": "code",
   "execution_count": 12,
   "metadata": {},
   "outputs": [
    {
     "name": "stdout",
     "output_type": "stream",
     "text": [
      "2019-01-15 20:41:07.965685\n",
      "2019-01-15 20:53:34.550119\n"
     ]
    },
    {
     "data": {
      "application/javascript": [
       "$(document).ready(\n",
       "    function() {\n",
       "        function appendUniqueDiv(){\n",
       "            // append a div with our uuid so we can check that it's already\n",
       "            // been sent and avoid duplicates on page reload\n",
       "            var notifiedDiv = document.createElement(\"div\")\n",
       "            notifiedDiv.id = \"37a2f119-4a70-4c2a-82c1-6358aa26915b\"\n",
       "            element.append(notifiedDiv)\n",
       "        }\n",
       "\n",
       "        // only send notifications if the pageload is complete; this will\n",
       "        // help stop extra notifications when a saved notebook is loaded,\n",
       "        // which during testing gives us state \"interactive\", not \"complete\"\n",
       "        if (document.readyState === 'complete') {\n",
       "            // check for the div that signifies that the notification\n",
       "            // was already sent\n",
       "            if (document.getElementById(\"37a2f119-4a70-4c2a-82c1-6358aa26915b\") === null) {\n",
       "                var notificationPayload = {\"requireInteraction\": false, \"icon\": \"/static/base/images/favicon.ico\", \"body\": \"Cell execution has finished!\"};\n",
       "                if (Notification.permission !== 'denied') {\n",
       "                    if (Notification.permission !== 'granted') { \n",
       "                        Notification.requestPermission(function (permission) {\n",
       "                            if(!('permission' in Notification)) {\n",
       "                                Notification.permission = permission\n",
       "                            }\n",
       "                        })\n",
       "                    }\n",
       "                    if (Notification.permission === 'granted') {\n",
       "                    var notification = new Notification(\"Jupyter Notebook\", notificationPayload)\n",
       "                    appendUniqueDiv()\n",
       "                    notification.onclick = function () {\n",
       "                        window.focus();\n",
       "                        this.close();\n",
       "                        };\n",
       "                    } \n",
       "                }     \n",
       "            }\n",
       "        }\n",
       "    }\n",
       ")\n"
      ],
      "text/plain": [
       "<IPython.core.display.Javascript object>"
      ]
     },
     "metadata": {},
     "output_type": "display_data"
    }
   ],
   "source": [
    "%%notify\n",
    "print(datetime.datetime.now())\n",
    "\n",
    "\n",
    "fmla = Formula('gcamp ~ .')\n",
    "\n",
    "\n",
    "fit = rms.ols(fmla, rdf_reg, x = True)\n",
    "print(datetime.datetime.now())\n",
    "\n",
    "#  takes about 8 minutes for CB"
   ]
  },
  {
   "cell_type": "code",
   "execution_count": 13,
   "metadata": {},
   "outputs": [
    {
     "name": "stdout",
     "output_type": "stream",
     "text": [
      "2019-01-15 20:53:35.130860\n",
      "2019-01-15 20:56:42.811845\n"
     ]
    },
    {
     "data": {
      "application/javascript": [
       "$(document).ready(\n",
       "    function() {\n",
       "        function appendUniqueDiv(){\n",
       "            // append a div with our uuid so we can check that it's already\n",
       "            // been sent and avoid duplicates on page reload\n",
       "            var notifiedDiv = document.createElement(\"div\")\n",
       "            notifiedDiv.id = \"178d4ce5-1002-4957-a2a9-a8a768b2ca10\"\n",
       "            element.append(notifiedDiv)\n",
       "        }\n",
       "\n",
       "        // only send notifications if the pageload is complete; this will\n",
       "        // help stop extra notifications when a saved notebook is loaded,\n",
       "        // which during testing gives us state \"interactive\", not \"complete\"\n",
       "        if (document.readyState === 'complete') {\n",
       "            // check for the div that signifies that the notification\n",
       "            // was already sent\n",
       "            if (document.getElementById(\"178d4ce5-1002-4957-a2a9-a8a768b2ca10\") === null) {\n",
       "                var notificationPayload = {\"requireInteraction\": false, \"icon\": \"/static/base/images/favicon.ico\", \"body\": \"Cell execution has finished!\"};\n",
       "                if (Notification.permission !== 'denied') {\n",
       "                    if (Notification.permission !== 'granted') { \n",
       "                        Notification.requestPermission(function (permission) {\n",
       "                            if(!('permission' in Notification)) {\n",
       "                                Notification.permission = permission\n",
       "                            }\n",
       "                        })\n",
       "                    }\n",
       "                    if (Notification.permission === 'granted') {\n",
       "                    var notification = new Notification(\"Jupyter Notebook\", notificationPayload)\n",
       "                    appendUniqueDiv()\n",
       "                    notification.onclick = function () {\n",
       "                        window.focus();\n",
       "                        this.close();\n",
       "                        };\n",
       "                    } \n",
       "                }     \n",
       "            }\n",
       "        }\n",
       "    }\n",
       ")\n"
      ],
      "text/plain": [
       "<IPython.core.display.Javascript object>"
      ]
     },
     "metadata": {},
     "output_type": "display_data"
    }
   ],
   "source": [
    "%%notify\n",
    "print(datetime.datetime.now())\n",
    "\n",
    "fit_adjusted = rms.robcov(fit, cluster=data_src['MouseID'].values) #, method = 'efron')\n",
    "# took about 3 minutes for CB \n",
    "\n",
    "print(datetime.datetime.now())\n",
    "\n"
   ]
  },
  {
   "cell_type": "code",
   "execution_count": 14,
   "metadata": {},
   "outputs": [],
   "source": [
    "# take off added intercept \n",
    "coef = np.asarray(fit_adjusted[0])[1:]\n",
    "var = np.asarray(fit_adjusted[8])[1:, 1:]"
   ]
  },
  {
   "cell_type": "code",
   "execution_count": 17,
   "metadata": {},
   "outputs": [],
   "source": [
    "varnames = list(np.repeat('NosePoke', 45))\n",
    "varnames.extend(np.repeat('LeverPrez', 45))\n",
    "varnames.extend(np.repeat('Choice', 45))\n",
    "varnames = np.tile(varnames, 4)\n",
    "\n",
    "time = list(np.tile(np.arange(-1, 2, 1/15), 3))\n",
    "time = np.tile(time, 4)\n",
    "\n",
    "\n",
    "cond = (np.repeat(['Intercept', 'Action:Con', 'Q values', 'Interaction'], 45 * 3))"
   ]
  },
  {
   "cell_type": "code",
   "execution_count": 20,
   "metadata": {},
   "outputs": [],
   "source": [
    "df_fit = pd.DataFrame(coef, columns = ['Estimate'])\n",
    "df_fit['StdError'] = np.sqrt(np.diag(var))\n",
    "df_fit['Variable'] = varnames\n",
    "df_fit['Time'] = time\n",
    "df_fit['Cond'] = cond"
   ]
  },
  {
   "cell_type": "code",
   "execution_count": 21,
   "metadata": {},
   "outputs": [],
   "source": [
    "df_fit.to_csv(\"data/\" + recordloc + \"/multiple_event_reg_qvals.csv\")"
   ]
  },
  {
   "cell_type": "code",
   "execution_count": 18,
   "metadata": {},
   "outputs": [
    {
     "data": {
      "text/plain": [
       "'DMS'"
      ]
     },
     "execution_count": 18,
     "metadata": {},
     "output_type": "execute_result"
    }
   ],
   "source": [
    "recordloc"
   ]
  },
  {
   "cell_type": "code",
   "execution_count": null,
   "metadata": {},
   "outputs": [],
   "source": []
  }
 ],
 "metadata": {
  "kernelspec": {
   "display_name": "Python [conda env:biomath]",
   "language": "python",
   "name": "conda-env-biomath-py"
  },
  "language_info": {
   "codemirror_mode": {
    "name": "ipython",
    "version": 3
   },
   "file_extension": ".py",
   "mimetype": "text/x-python",
   "name": "python",
   "nbconvert_exporter": "python",
   "pygments_lexer": "ipython3",
   "version": "3.5.4"
  },
  "toc": {
   "nav_menu": {},
   "number_sections": false,
   "sideBar": true,
   "skip_h1_title": false,
   "toc_cell": false,
   "toc_position": {},
   "toc_section_display": "block",
   "toc_window_display": false
  }
 },
 "nbformat": 4,
 "nbformat_minor": 2
}
